{
  "nbformat": 4,
  "nbformat_minor": 0,
  "metadata": {
    "colab": {
      "provenance": [],
      "authorship_tag": "ABX9TyP1efcXqEhuhX5hGkEgSk3+",
      "include_colab_link": true
    },
    "kernelspec": {
      "name": "python3",
      "display_name": "Python 3"
    },
    "language_info": {
      "name": "python"
    }
  },
  "cells": [
    {
      "cell_type": "markdown",
      "metadata": {
        "id": "view-in-github",
        "colab_type": "text"
      },
      "source": [
        "<a href=\"https://colab.research.google.com/github/naeemamr/Project-Allocation-Recommender-System/blob/main/Thesis_Project.ipynb\" target=\"_parent\"><img src=\"https://colab.research.google.com/assets/colab-badge.svg\" alt=\"Open In Colab\"/></a>"
      ]
    },
    {
      "cell_type": "code",
      "execution_count": null,
      "metadata": {
        "colab": {
          "base_uri": "https://localhost:8080/"
        },
        "id": "G-Da76NT3xXa",
        "outputId": "69d1c3ef-7595-4f46-aae4-539f11797819"
      },
      "outputs": [
        {
          "output_type": "stream",
          "name": "stdout",
          "text": [
            "Looking in indexes: https://pypi.org/simple, https://us-python.pkg.dev/colab-wheels/public/simple/\n",
            "Requirement already satisfied: mlxtend in /usr/local/lib/python3.10/dist-packages (0.14.0)\n",
            "Requirement already satisfied: scipy>=0.17 in /usr/local/lib/python3.10/dist-packages (from mlxtend) (1.10.1)\n",
            "Requirement already satisfied: numpy>=1.10.4 in /usr/local/lib/python3.10/dist-packages (from mlxtend) (1.22.4)\n",
            "Requirement already satisfied: pandas>=0.17.1 in /usr/local/lib/python3.10/dist-packages (from mlxtend) (1.5.3)\n",
            "Requirement already satisfied: scikit-learn>=0.18 in /usr/local/lib/python3.10/dist-packages (from mlxtend) (1.2.2)\n",
            "Requirement already satisfied: matplotlib>=1.5.1 in /usr/local/lib/python3.10/dist-packages (from mlxtend) (3.7.1)\n",
            "Requirement already satisfied: setuptools in /usr/local/lib/python3.10/dist-packages (from mlxtend) (67.7.2)\n",
            "Requirement already satisfied: contourpy>=1.0.1 in /usr/local/lib/python3.10/dist-packages (from matplotlib>=1.5.1->mlxtend) (1.0.7)\n",
            "Requirement already satisfied: cycler>=0.10 in /usr/local/lib/python3.10/dist-packages (from matplotlib>=1.5.1->mlxtend) (0.11.0)\n",
            "Requirement already satisfied: fonttools>=4.22.0 in /usr/local/lib/python3.10/dist-packages (from matplotlib>=1.5.1->mlxtend) (4.39.3)\n",
            "Requirement already satisfied: kiwisolver>=1.0.1 in /usr/local/lib/python3.10/dist-packages (from matplotlib>=1.5.1->mlxtend) (1.4.4)\n",
            "Requirement already satisfied: packaging>=20.0 in /usr/local/lib/python3.10/dist-packages (from matplotlib>=1.5.1->mlxtend) (23.1)\n",
            "Requirement already satisfied: pillow>=6.2.0 in /usr/local/lib/python3.10/dist-packages (from matplotlib>=1.5.1->mlxtend) (8.4.0)\n",
            "Requirement already satisfied: pyparsing>=2.3.1 in /usr/local/lib/python3.10/dist-packages (from matplotlib>=1.5.1->mlxtend) (3.0.9)\n",
            "Requirement already satisfied: python-dateutil>=2.7 in /usr/local/lib/python3.10/dist-packages (from matplotlib>=1.5.1->mlxtend) (2.8.2)\n",
            "Requirement already satisfied: pytz>=2020.1 in /usr/local/lib/python3.10/dist-packages (from pandas>=0.17.1->mlxtend) (2022.7.1)\n",
            "Requirement already satisfied: joblib>=1.1.1 in /usr/local/lib/python3.10/dist-packages (from scikit-learn>=0.18->mlxtend) (1.2.0)\n",
            "Requirement already satisfied: threadpoolctl>=2.0.0 in /usr/local/lib/python3.10/dist-packages (from scikit-learn>=0.18->mlxtend) (3.1.0)\n",
            "Requirement already satisfied: six>=1.5 in /usr/local/lib/python3.10/dist-packages (from python-dateutil>=2.7->matplotlib>=1.5.1->mlxtend) (1.16.0)\n",
            "Looking in indexes: https://pypi.org/simple, https://us-python.pkg.dev/colab-wheels/public/simple/\n",
            "Collecting scikit-surprise==1.1.1\n",
            "  Downloading scikit-surprise-1.1.1.tar.gz (11.8 MB)\n",
            "\u001b[2K     \u001b[90m━━━━━━━━━━━━━━━━━━━━━━━━━━━━━━━━━━━━━━━━\u001b[0m \u001b[32m11.8/11.8 MB\u001b[0m \u001b[31m12.4 MB/s\u001b[0m eta \u001b[36m0:00:00\u001b[0m\n",
            "\u001b[?25h  Preparing metadata (setup.py) ... \u001b[?25l\u001b[?25hdone\n",
            "Requirement already satisfied: joblib>=0.11 in /usr/local/lib/python3.10/dist-packages (from scikit-surprise==1.1.1) (1.2.0)\n",
            "Requirement already satisfied: numpy>=1.11.2 in /usr/local/lib/python3.10/dist-packages (from scikit-surprise==1.1.1) (1.22.4)\n",
            "Requirement already satisfied: scipy>=1.0.0 in /usr/local/lib/python3.10/dist-packages (from scikit-surprise==1.1.1) (1.10.1)\n",
            "Requirement already satisfied: six>=1.10.0 in /usr/local/lib/python3.10/dist-packages (from scikit-surprise==1.1.1) (1.16.0)\n",
            "Building wheels for collected packages: scikit-surprise\n",
            "  Building wheel for scikit-surprise (setup.py) ... \u001b[?25l\u001b[?25hdone\n",
            "  Created wheel for scikit-surprise: filename=scikit_surprise-1.1.1-cp310-cp310-linux_x86_64.whl size=2051683 sha256=6bb47e7937a82db8b6d8ce24fc0a958d62d62f250065e57bdd14637120e864f8\n",
            "  Stored in directory: /root/.cache/pip/wheels/83/11/fb/6f834df4a72a79fcd80a6ab5e3098cee14dc66bda025915ace\n",
            "Successfully built scikit-surprise\n",
            "Installing collected packages: scikit-surprise\n",
            "Successfully installed scikit-surprise-1.1.1\n"
          ]
        }
      ],
      "source": [
        "#Importing all Libraries\n",
        "!pip install mlxtend\n",
        "!pip install scikit-surprise==1.1.1\n",
        "import pandas as pd\n",
        "import numpy as np\n",
        "from math import sqrt\n",
        "from sklearn.preprocessing import OneHotEncoder, StandardScaler\n",
        "from sklearn.metrics.pairwise import cosine_similarity\n",
        "from sklearn.metrics import mean_squared_error\n",
        "from surprise import Reader, Dataset, SVD\n",
        "from surprise.model_selection import train_test_split\n",
        "from sklearn.metrics import mean_squared_error, mean_absolute_error"
      ]
    },
    {
      "cell_type": "markdown",
      "metadata": {
        "id": "qrmsQ12nCYkp"
      },
      "source": [
        "##Human Resources Model\n",
        "###Business Understanding:\n",
        "This model uses a collection of datasets that were provided for IT employee data for project allocation. We identified three important datasets that were relevant for building our recommender system, which is designed to analyze IT projects, extract related features, and provide employee recommendations for the best fit for a given project. The datasets we used include Employee_Skills_Dataset.csv, Final_Employee_Data.csv, and Project_details.csv, as they contained the most relevant features to address our business problem.\n",
        "The goal of this recommender system is to help businesses optimize their project allocation and improve resource utilization by analyzing the skills and experience of individual employees."
      ]
    },
    {
      "cell_type": "markdown",
      "metadata": {
        "id": "jlRGMXZOyNkn"
      },
      "source": [
        "###Data Understanding:\n",
        "**Employee_Skills_Dataset.csv**\n",
        "This dataset contains information about the skill levels of IT employees in various programming languages and technologies. The skill levels are represented on a scale of 0 to 4, where 0 indicates no skill and 4 indicates a high level of skill. The dataset includes the following columns:\n",
        "\n",
        "    Eid: A unique identifier for each employee.\n",
        "    Python: The skill level of the employee in Python programming language.\n",
        "    Machine Learning: The skill level of the employee in Machine Learning.\n",
        "    Deep Learning: The skill level of the employee in Deep Learning.\n",
        "    Data Analysis: The skill level of the employee in Data Analysis.\n",
        "    Asp.Net: The skill level of the employee in the Asp.Net web development framework.\n",
        "    Ado.Net: The skill level of the employee in Ado.Net.\n",
        "    VB.Net: The skill level of the employee in VB.Net programming language.\n",
        "    C#: The skill level of the employee in C# programming language.\n",
        "    Java: The skill level of the employee in Java programming language.\n",
        "    Spring Boot: The skill level of the employee in the Spring Boot framework.\n",
        "    Hibernate: The skill level of the employee in the Hibernate ORM framework.\n",
        "    NLP: The skill level of the employee in Natural Language Processing techniques.\n",
        "    CV: The skill level of the employee in Computer Vision techniques.\n",
        "    JS: The skill level of the employee in JavaScript programming language.\n",
        "    React: The skill level of the employee in the React JavaScript library.\n",
        "    Node: The skill level of the employee in the Node.js JavaScript runtime.\n",
        "    Angular: The skill level of the employee in the Angular framework.\n",
        "    Dart: The skill level of the employee in Dart programming language.\n",
        "    Flutter: The skill level of the employee in the Flutter mobile app development framework.\n",
        "    Vb.Net: The skill level of the employee in the VB.Net programming language.\n",
        "**Final_Employees_Data.csv**\n",
        "This dataset contains information about IT employees, including their       experience, total number of projects, rating, areas of interest, programming languages, and project counts.\n",
        "\n",
        "    Eid: A unique identifier for each employee.\n",
        "    Ename: The name of the employee.\n",
        "    Experience: The total number of years of experience the employee has in the IT industry.\n",
        "    Total_projects: The total number of projects the employee has worked on.\n",
        "    Rating: The employee's rating based on their performance.\n",
        "    Area_of_Interest_1, Area_of_Interest_2, Area_of_Interest_3: The areas of interest or expertise of the employee, with up to three options listed.\n",
        "    Language1, Language2, Language3: The programming languages with which the employee has experience, with up to three options listed.\n",
        "    AI_project_count, ML_project_count, JS_project_count, Java_project_count, DotNet_project_count, Mobile_project_count: The number of projects the employee has worked on in each of these areas, grouped together for ease of understanding.\n",
        "**Project_details.csv**\n",
        "Originaly this dataset included these columns.\n",
        "\n",
        "    Project Name: This column contains the name  of the ptrvious projects.\n",
        "    Client Name: This column contains the ID of the client for whom the project is being executed.\n",
        "    Domain Name: This column contains the domain to which the project belongs.\n",
        "However, Since there were no actual use for this dataset but to indicate the experiences required for each project's domain. So we edited the datasest to include more 3 more projects to include more domains.    \n",
        "\n"
      ]
    },
    {
      "cell_type": "markdown",
      "metadata": {
        "id": "j7YQI4QgGdJg"
      },
      "source": [
        "Data Exploration and Cleaning:"
      ]
    },
    {
      "cell_type": "markdown",
      "source": [
        "We'll read in *Employee_Skills_Datset.xls* dataset:"
      ],
      "metadata": {
        "id": "8e02jDJLotbF"
      }
    },
    {
      "cell_type": "code",
      "source": [
        "df_skills = pd.read_csv(\"/Employee_Skills_Datset.xls\")"
      ],
      "metadata": {
        "id": "8-JZIVGGmKJ9"
      },
      "execution_count": null,
      "outputs": []
    },
    {
      "cell_type": "code",
      "execution_count": null,
      "metadata": {
        "colab": {
          "base_uri": "https://localhost:8080/",
          "height": 317
        },
        "id": "QbStng3uTD9d",
        "outputId": "7d003326-4520-4f8e-8cfd-8bbe81acfd56"
      },
      "outputs": [
        {
          "output_type": "execute_result",
          "data": {
            "text/plain": [
              "   Eid  Python  Machine Learning  Deep Learning  Data Analysis  Asp.Net  \\\n",
              "0    1       1                 1              1              1        1   \n",
              "1    2       1                 1              1              1        4   \n",
              "2    3       4                 4              4              4        1   \n",
              "3    4       3                 3              3              3        4   \n",
              "4    5       1                 1              1              1        1   \n",
              "\n",
              "   Ado.Net  VB.Net  C#  Java  ...  Hibernate  NLP  CV  JS  React  Node  \\\n",
              "0        1       0   1     1  ...          0    1   1   3      3     3   \n",
              "1        4       0   4     1  ...          1    3   3   1      1     1   \n",
              "2        1       0   1     2  ...          2    1   1   3      3     3   \n",
              "3        4       0   4     1  ...          1    1   1   1      1     1   \n",
              "4        1       0   1     3  ...          3    1   1   2      2     2   \n",
              "\n",
              "   Angular  Dart  Flutter  Vb.Net  \n",
              "0        3     0        0       1  \n",
              "1        1     1        1       4  \n",
              "2        3     1        1       1  \n",
              "3        1     2        2       4  \n",
              "4        2     4        4       1  \n",
              "\n",
              "[5 rows x 21 columns]"
            ],
            "text/html": [
              "\n",
              "  <div id=\"df-1f46f27e-eb68-4129-802a-cca84a5a050f\">\n",
              "    <div class=\"colab-df-container\">\n",
              "      <div>\n",
              "<style scoped>\n",
              "    .dataframe tbody tr th:only-of-type {\n",
              "        vertical-align: middle;\n",
              "    }\n",
              "\n",
              "    .dataframe tbody tr th {\n",
              "        vertical-align: top;\n",
              "    }\n",
              "\n",
              "    .dataframe thead th {\n",
              "        text-align: right;\n",
              "    }\n",
              "</style>\n",
              "<table border=\"1\" class=\"dataframe\">\n",
              "  <thead>\n",
              "    <tr style=\"text-align: right;\">\n",
              "      <th></th>\n",
              "      <th>Eid</th>\n",
              "      <th>Python</th>\n",
              "      <th>Machine Learning</th>\n",
              "      <th>Deep Learning</th>\n",
              "      <th>Data Analysis</th>\n",
              "      <th>Asp.Net</th>\n",
              "      <th>Ado.Net</th>\n",
              "      <th>VB.Net</th>\n",
              "      <th>C#</th>\n",
              "      <th>Java</th>\n",
              "      <th>...</th>\n",
              "      <th>Hibernate</th>\n",
              "      <th>NLP</th>\n",
              "      <th>CV</th>\n",
              "      <th>JS</th>\n",
              "      <th>React</th>\n",
              "      <th>Node</th>\n",
              "      <th>Angular</th>\n",
              "      <th>Dart</th>\n",
              "      <th>Flutter</th>\n",
              "      <th>Vb.Net</th>\n",
              "    </tr>\n",
              "  </thead>\n",
              "  <tbody>\n",
              "    <tr>\n",
              "      <th>0</th>\n",
              "      <td>1</td>\n",
              "      <td>1</td>\n",
              "      <td>1</td>\n",
              "      <td>1</td>\n",
              "      <td>1</td>\n",
              "      <td>1</td>\n",
              "      <td>1</td>\n",
              "      <td>0</td>\n",
              "      <td>1</td>\n",
              "      <td>1</td>\n",
              "      <td>...</td>\n",
              "      <td>0</td>\n",
              "      <td>1</td>\n",
              "      <td>1</td>\n",
              "      <td>3</td>\n",
              "      <td>3</td>\n",
              "      <td>3</td>\n",
              "      <td>3</td>\n",
              "      <td>0</td>\n",
              "      <td>0</td>\n",
              "      <td>1</td>\n",
              "    </tr>\n",
              "    <tr>\n",
              "      <th>1</th>\n",
              "      <td>2</td>\n",
              "      <td>1</td>\n",
              "      <td>1</td>\n",
              "      <td>1</td>\n",
              "      <td>1</td>\n",
              "      <td>4</td>\n",
              "      <td>4</td>\n",
              "      <td>0</td>\n",
              "      <td>4</td>\n",
              "      <td>1</td>\n",
              "      <td>...</td>\n",
              "      <td>1</td>\n",
              "      <td>3</td>\n",
              "      <td>3</td>\n",
              "      <td>1</td>\n",
              "      <td>1</td>\n",
              "      <td>1</td>\n",
              "      <td>1</td>\n",
              "      <td>1</td>\n",
              "      <td>1</td>\n",
              "      <td>4</td>\n",
              "    </tr>\n",
              "    <tr>\n",
              "      <th>2</th>\n",
              "      <td>3</td>\n",
              "      <td>4</td>\n",
              "      <td>4</td>\n",
              "      <td>4</td>\n",
              "      <td>4</td>\n",
              "      <td>1</td>\n",
              "      <td>1</td>\n",
              "      <td>0</td>\n",
              "      <td>1</td>\n",
              "      <td>2</td>\n",
              "      <td>...</td>\n",
              "      <td>2</td>\n",
              "      <td>1</td>\n",
              "      <td>1</td>\n",
              "      <td>3</td>\n",
              "      <td>3</td>\n",
              "      <td>3</td>\n",
              "      <td>3</td>\n",
              "      <td>1</td>\n",
              "      <td>1</td>\n",
              "      <td>1</td>\n",
              "    </tr>\n",
              "    <tr>\n",
              "      <th>3</th>\n",
              "      <td>4</td>\n",
              "      <td>3</td>\n",
              "      <td>3</td>\n",
              "      <td>3</td>\n",
              "      <td>3</td>\n",
              "      <td>4</td>\n",
              "      <td>4</td>\n",
              "      <td>0</td>\n",
              "      <td>4</td>\n",
              "      <td>1</td>\n",
              "      <td>...</td>\n",
              "      <td>1</td>\n",
              "      <td>1</td>\n",
              "      <td>1</td>\n",
              "      <td>1</td>\n",
              "      <td>1</td>\n",
              "      <td>1</td>\n",
              "      <td>1</td>\n",
              "      <td>2</td>\n",
              "      <td>2</td>\n",
              "      <td>4</td>\n",
              "    </tr>\n",
              "    <tr>\n",
              "      <th>4</th>\n",
              "      <td>5</td>\n",
              "      <td>1</td>\n",
              "      <td>1</td>\n",
              "      <td>1</td>\n",
              "      <td>1</td>\n",
              "      <td>1</td>\n",
              "      <td>1</td>\n",
              "      <td>0</td>\n",
              "      <td>1</td>\n",
              "      <td>3</td>\n",
              "      <td>...</td>\n",
              "      <td>3</td>\n",
              "      <td>1</td>\n",
              "      <td>1</td>\n",
              "      <td>2</td>\n",
              "      <td>2</td>\n",
              "      <td>2</td>\n",
              "      <td>2</td>\n",
              "      <td>4</td>\n",
              "      <td>4</td>\n",
              "      <td>1</td>\n",
              "    </tr>\n",
              "  </tbody>\n",
              "</table>\n",
              "<p>5 rows × 21 columns</p>\n",
              "</div>\n",
              "      <button class=\"colab-df-convert\" onclick=\"convertToInteractive('df-1f46f27e-eb68-4129-802a-cca84a5a050f')\"\n",
              "              title=\"Convert this dataframe to an interactive table.\"\n",
              "              style=\"display:none;\">\n",
              "        \n",
              "  <svg xmlns=\"http://www.w3.org/2000/svg\" height=\"24px\"viewBox=\"0 0 24 24\"\n",
              "       width=\"24px\">\n",
              "    <path d=\"M0 0h24v24H0V0z\" fill=\"none\"/>\n",
              "    <path d=\"M18.56 5.44l.94 2.06.94-2.06 2.06-.94-2.06-.94-.94-2.06-.94 2.06-2.06.94zm-11 1L8.5 8.5l.94-2.06 2.06-.94-2.06-.94L8.5 2.5l-.94 2.06-2.06.94zm10 10l.94 2.06.94-2.06 2.06-.94-2.06-.94-.94-2.06-.94 2.06-2.06.94z\"/><path d=\"M17.41 7.96l-1.37-1.37c-.4-.4-.92-.59-1.43-.59-.52 0-1.04.2-1.43.59L10.3 9.45l-7.72 7.72c-.78.78-.78 2.05 0 2.83L4 21.41c.39.39.9.59 1.41.59.51 0 1.02-.2 1.41-.59l7.78-7.78 2.81-2.81c.8-.78.8-2.07 0-2.86zM5.41 20L4 18.59l7.72-7.72 1.47 1.35L5.41 20z\"/>\n",
              "  </svg>\n",
              "      </button>\n",
              "      \n",
              "  <style>\n",
              "    .colab-df-container {\n",
              "      display:flex;\n",
              "      flex-wrap:wrap;\n",
              "      gap: 12px;\n",
              "    }\n",
              "\n",
              "    .colab-df-convert {\n",
              "      background-color: #E8F0FE;\n",
              "      border: none;\n",
              "      border-radius: 50%;\n",
              "      cursor: pointer;\n",
              "      display: none;\n",
              "      fill: #1967D2;\n",
              "      height: 32px;\n",
              "      padding: 0 0 0 0;\n",
              "      width: 32px;\n",
              "    }\n",
              "\n",
              "    .colab-df-convert:hover {\n",
              "      background-color: #E2EBFA;\n",
              "      box-shadow: 0px 1px 2px rgba(60, 64, 67, 0.3), 0px 1px 3px 1px rgba(60, 64, 67, 0.15);\n",
              "      fill: #174EA6;\n",
              "    }\n",
              "\n",
              "    [theme=dark] .colab-df-convert {\n",
              "      background-color: #3B4455;\n",
              "      fill: #D2E3FC;\n",
              "    }\n",
              "\n",
              "    [theme=dark] .colab-df-convert:hover {\n",
              "      background-color: #434B5C;\n",
              "      box-shadow: 0px 1px 3px 1px rgba(0, 0, 0, 0.15);\n",
              "      filter: drop-shadow(0px 1px 2px rgba(0, 0, 0, 0.3));\n",
              "      fill: #FFFFFF;\n",
              "    }\n",
              "  </style>\n",
              "\n",
              "      <script>\n",
              "        const buttonEl =\n",
              "          document.querySelector('#df-1f46f27e-eb68-4129-802a-cca84a5a050f button.colab-df-convert');\n",
              "        buttonEl.style.display =\n",
              "          google.colab.kernel.accessAllowed ? 'block' : 'none';\n",
              "\n",
              "        async function convertToInteractive(key) {\n",
              "          const element = document.querySelector('#df-1f46f27e-eb68-4129-802a-cca84a5a050f');\n",
              "          const dataTable =\n",
              "            await google.colab.kernel.invokeFunction('convertToInteractive',\n",
              "                                                     [key], {});\n",
              "          if (!dataTable) return;\n",
              "\n",
              "          const docLinkHtml = 'Like what you see? Visit the ' +\n",
              "            '<a target=\"_blank\" href=https://colab.research.google.com/notebooks/data_table.ipynb>data table notebook</a>'\n",
              "            + ' to learn more about interactive tables.';\n",
              "          element.innerHTML = '';\n",
              "          dataTable['output_type'] = 'display_data';\n",
              "          await google.colab.output.renderOutput(dataTable, element);\n",
              "          const docLink = document.createElement('div');\n",
              "          docLink.innerHTML = docLinkHtml;\n",
              "          element.appendChild(docLink);\n",
              "        }\n",
              "      </script>\n",
              "    </div>\n",
              "  </div>\n",
              "  "
            ]
          },
          "metadata": {},
          "execution_count": 4
        }
      ],
      "source": [
        "df_skills.head()"
      ]
    },
    {
      "cell_type": "code",
      "execution_count": null,
      "metadata": {
        "colab": {
          "base_uri": "https://localhost:8080/"
        },
        "id": "iGCyT6dDzbcd",
        "outputId": "08c00c3f-8241-483e-8403-51bc48ba3f98"
      },
      "outputs": [
        {
          "output_type": "execute_result",
          "data": {
            "text/plain": [
              "Index(['Eid', 'Python', 'Machine Learning', 'Deep Learning', 'Data Analysis',\n",
              "       'Asp.Net', 'Ado.Net', 'VB.Net', 'C#', 'Java', 'Spring Boot',\n",
              "       'Hibernate', 'NLP', 'CV', 'JS', 'React', 'Node', 'Angular', 'Dart',\n",
              "       'Flutter', 'Vb.Net'],\n",
              "      dtype='object')"
            ]
          },
          "metadata": {},
          "execution_count": 4
        }
      ],
      "source": [
        "df_skills.columns"
      ]
    },
    {
      "cell_type": "code",
      "execution_count": null,
      "metadata": {
        "id": "QLlVRWQ9TYB_",
        "colab": {
          "base_uri": "https://localhost:8080/"
        },
        "outputId": "78828a7c-c058-4ddc-9a6f-14bf75edd59c"
      },
      "outputs": [
        {
          "output_type": "stream",
          "name": "stdout",
          "text": [
            "Eid : [   1    2    3    4    5    6    7    8    9   10   11   12   13   14\n",
            "   15   16   17   18   19   20   21   22   23   24   25   26   27   28\n",
            "   29   30   31   32   33   34   35   36   37   38   39   40   41   42\n",
            "   43   44   45   46   47   48   49   50   51   52   53   54   55   56\n",
            "   57   58   59   60   61   62   63   64   65   66   67   68   69   70\n",
            "   71   72   73   74   75   76   77   78   79   80   81   82   83   84\n",
            "   85   86   87   88   89   90   91   92   93   94   95   96   97   98\n",
            "   99  100  101  102  103  104  105  106  107  108  109  110  111  112\n",
            "  113  114  115  116  117  118  119  120  121  122  123  124  125  126\n",
            "  127  128  129  130  131  132  133  134  135  136  137  138  139  140\n",
            "  141  142  143  144  145  146  147  148  149  150  151  152  153  154\n",
            "  155  156  157  158  159  160  161  162  163  164  165  166  167  168\n",
            "  169  170  171  172  173  174  175  176  177  178  179  180  181  182\n",
            "  183  184  185  186  187  188  189  190  191  192  193  194  195  196\n",
            "  197  198  199  200  201  202  203  204  205  206  207  208  209  210\n",
            "  211  212  213  214  215  216  217  218  219  220  221  222  223  224\n",
            "  225  226  227  228  229  230  231  232  233  234  235  236  237  238\n",
            "  239  240  241  242  243  244  245  246  247  248  249  250  251  252\n",
            "  253  254  255  256  257  258  259  260  261  262  263  264  265  266\n",
            "  267  268  269  270  271  272  273  274  275  276  277  278  279  280\n",
            "  281  282  283  284  285  286  287  288  289  290  291  292  293  294\n",
            "  295  296  297  298  299  300  301  302  303  304  305  306  307  308\n",
            "  309  310  311  312  313  314  315  316  317  318  319  320  321  322\n",
            "  323  324  325  326  327  328  329  330  331  332  333  334  335  336\n",
            "  337  338  339  340  341  342  343  344  345  346  347  348  349  350\n",
            "  351  352  353  354  355  356  357  358  359  360  361  362  363  364\n",
            "  365  366  367  368  369  370  371  372  373  374  375  376  377  378\n",
            "  379  380  381  382  383  384  385  386  387  388  389  390  391  392\n",
            "  393  394  395  396  397  398  399  400  401  402  403  404  405  406\n",
            "  407  408  409  410  411  412  413  414  415  416  417  418  419  420\n",
            "  421  422  423  424  425  426  427  428  429  430  431  432  433  434\n",
            "  435  436  437  438  439  440  441  442  443  444  445  446  447  448\n",
            "  449  450  451  452  453  454  455  456  457  458  459  460  461  462\n",
            "  463  464  465  466  467  468  469  470  471  472  473  474  475  476\n",
            "  477  478  479  480  481  482  483  484  485  486  487  488  489  490\n",
            "  491  492  493  494  495  496  497  498  499  500  501  502  503  504\n",
            "  505  506  507  508  509  510  511  512  513  514  515  516  517  518\n",
            "  519  520  521  522  523  524  525  526  527  528  529  530  531  532\n",
            "  533  534  535  536  537  538  539  540  541  542  543  544  545  546\n",
            "  547  548  549  550  551  552  553  554  555  556  557  558  559  560\n",
            "  561  562  563  564  565  566  567  568  569  570  571  572  573  574\n",
            "  575  576  577  578  579  580  581  582  583  584  585  586  587  588\n",
            "  589  590  591  592  593  594  595  596  597  598  599  600  601  602\n",
            "  603  604  605  606  607  608  609  610  611  612  613  614  615  616\n",
            "  617  618  619  620  621  622  623  624  625  626  627  628  629  630\n",
            "  631  632  633  634  635  636  637  638  639  640  641  642  643  644\n",
            "  645  646  647  648  649  650  651  652  653  654  655  656  657  658\n",
            "  659  660  661  662  663  664  665  666  667  668  669  670  671  672\n",
            "  673  674  675  676  677  678  679  680  681  682  683  684  685  686\n",
            "  687  688  689  690  691  692  693  694  695  696  697  698  699  700\n",
            "  701  702  703  704  705  706  707  708  709  710  711  712  713  714\n",
            "  715  716  717  718  719  720  721  722  723  724  725  726  727  728\n",
            "  729  730  731  732  733  734  735  736  737  738  739  740  741  742\n",
            "  743  744  745  746  747  748  749  750  751  752  753  754  755  756\n",
            "  757  758  759  760  761  762  763  764  765  766  767  768  769  770\n",
            "  771  772  773  774  775  776  777  778  779  780  781  782  783  784\n",
            "  785  786  787  788  789  790  791  792  793  794  795  796  797  798\n",
            "  799  800  801  802  803  804  805  806  807  808  809  810  811  812\n",
            "  813  814  815  816  817  818  819  820  821  822  823  824  825  826\n",
            "  827  828  829  830  831  832  833  834  835  836  837  838  839  840\n",
            "  841  842  843  844  845  846  847  848  849  850  851  852  853  854\n",
            "  855  856  857  858  859  860  861  862  863  864  865  866  867  868\n",
            "  869  870  871  872  873  874  875  876  877  878  879  880  881  882\n",
            "  883  884  885  886  887  888  889  890  891  892  893  894  895  896\n",
            "  897  898  899  900  901  902  903  904  905  906  907  908  909  910\n",
            "  911  912  913  914  915  916  917  918  919  920  921  922  923  924\n",
            "  925  926  927  928  929  930  931  932  933  934  935  936  937  938\n",
            "  939  940  941  942  943  944  945  946  947  948  949  950  951  952\n",
            "  953  954  955  956  957  958  959  960  961  962  963  964  965  966\n",
            "  967  968  969  970  971  972  973  974  975  976  977  978  979  980\n",
            "  981  982  983  984  985  986  987  988  989  990  991  992  993  994\n",
            "  995  996  997  998  999 1000]\n",
            "====================================\n",
            "Python : [1 4 3 2]\n",
            "====================================\n",
            "Machine Learning : [1 4 3 2 0]\n",
            "====================================\n",
            "Deep Learning : [1 4 3 2 0]\n",
            "====================================\n",
            "Data Analysis : [1 4 3 2 0]\n",
            "====================================\n",
            "Asp.Net : [1 4 0 2 3]\n",
            "====================================\n",
            "Ado.Net : [1 4 0 2 3]\n",
            "====================================\n",
            "VB.Net : [0]\n",
            "====================================\n",
            "C# : [1 4 2 3]\n",
            "====================================\n",
            "Java : [1 2 3 4]\n",
            "====================================\n",
            "Spring Boot : [0 1 2 3 4]\n",
            "====================================\n",
            "Hibernate : [0 1 2 3 4]\n",
            "====================================\n",
            "NLP : [1 3 4 2 0]\n",
            "====================================\n",
            "CV : [1 3 4 2 0]\n",
            "====================================\n",
            "JS : [3 1 2 4]\n",
            "====================================\n",
            "React : [3 1 2 4 0]\n",
            "====================================\n",
            "Node : [3 1 2 4 0]\n",
            "====================================\n",
            "Angular : [3 1 2 4 0]\n",
            "====================================\n",
            "Dart : [0 1 2 4 3]\n",
            "====================================\n",
            "Flutter : [0 1 2 4 3]\n",
            "====================================\n",
            "Vb.Net : [1 4 0 2 3]\n",
            "====================================\n"
          ]
        }
      ],
      "source": [
        "#We'll identify the unique values in the dataset\n",
        "for column in df_skills.columns:\n",
        "    print(f\"{column} : {df_skills[column].unique()}\")\n",
        "    print(\"====================================\")\n",
        "#No anomalies or NaN values and all dtypes are of them same type, so everything seems fine.    "
      ]
    },
    {
      "cell_type": "code",
      "execution_count": null,
      "metadata": {
        "id": "f_euDG3ITyHv",
        "colab": {
          "base_uri": "https://localhost:8080/"
        },
        "outputId": "b402a558-d4a8-4655-a7d6-8f249ddb3a58"
      },
      "outputs": [
        {
          "output_type": "stream",
          "name": "stdout",
          "text": [
            "Eid: Number of unique values 1000\n",
            "==========================================================\n",
            "Python: Number of unique values 4\n",
            "==========================================================\n",
            "Machine Learning: Number of unique values 5\n",
            "==========================================================\n",
            "Deep Learning: Number of unique values 5\n",
            "==========================================================\n",
            "Data Analysis: Number of unique values 5\n",
            "==========================================================\n",
            "Asp.Net: Number of unique values 5\n",
            "==========================================================\n",
            "Ado.Net: Number of unique values 5\n",
            "==========================================================\n",
            "VB.Net: Number of unique values 1\n",
            "==========================================================\n",
            "C#: Number of unique values 4\n",
            "==========================================================\n",
            "Java: Number of unique values 4\n",
            "==========================================================\n",
            "Spring Boot: Number of unique values 5\n",
            "==========================================================\n",
            "Hibernate: Number of unique values 5\n",
            "==========================================================\n",
            "NLP: Number of unique values 5\n",
            "==========================================================\n",
            "CV: Number of unique values 5\n",
            "==========================================================\n",
            "JS: Number of unique values 4\n",
            "==========================================================\n",
            "React: Number of unique values 5\n",
            "==========================================================\n",
            "Node: Number of unique values 5\n",
            "==========================================================\n",
            "Angular: Number of unique values 5\n",
            "==========================================================\n",
            "Dart: Number of unique values 5\n",
            "==========================================================\n",
            "Flutter: Number of unique values 5\n",
            "==========================================================\n",
            "Vb.Net: Number of unique values 5\n",
            "==========================================================\n"
          ]
        }
      ],
      "source": [
        "#To identify the number of unique values\n",
        "for column in df_skills.columns:\n",
        "    print(f\"{column}: Number of unique values {df_skills[column].nunique()}\")\n",
        "    print(\"==========================================================\")"
      ]
    },
    {
      "cell_type": "code",
      "execution_count": null,
      "metadata": {
        "id": "9kHG_UwNT6hd",
        "colab": {
          "base_uri": "https://localhost:8080/"
        },
        "outputId": "56ce24f2-7ed4-4a45-8706-b0bba5d5ae1d"
      },
      "outputs": [
        {
          "output_type": "execute_result",
          "data": {
            "text/plain": [
              "Eid                 0\n",
              "Python              0\n",
              "Machine Learning    0\n",
              "Deep Learning       0\n",
              "Data Analysis       0\n",
              "Asp.Net             0\n",
              "Ado.Net             0\n",
              "VB.Net              0\n",
              "C#                  0\n",
              "Java                0\n",
              "Spring Boot         0\n",
              "Hibernate           0\n",
              "NLP                 0\n",
              "CV                  0\n",
              "JS                  0\n",
              "React               0\n",
              "Node                0\n",
              "Angular             0\n",
              "Dart                0\n",
              "Flutter             0\n",
              "Vb.Net              0\n",
              "dtype: int64"
            ]
          },
          "metadata": {},
          "execution_count": 7
        }
      ],
      "source": [
        "df_skills.isnull().sum()\n",
        "#Yup, no null values"
      ]
    },
    {
      "cell_type": "code",
      "execution_count": null,
      "metadata": {
        "id": "0UJzh8SBglcp",
        "colab": {
          "base_uri": "https://localhost:8080/"
        },
        "outputId": "f15a15ce-32f0-4b77-a517-5b1b652cef54"
      },
      "outputs": [
        {
          "output_type": "execute_result",
          "data": {
            "text/plain": [
              "Eid                 int64\n",
              "Python              int64\n",
              "Machine Learning    int64\n",
              "Deep Learning       int64\n",
              "Data Analysis       int64\n",
              "Asp.Net             int64\n",
              "Ado.Net             int64\n",
              "VB.Net              int64\n",
              "C#                  int64\n",
              "Java                int64\n",
              "Spring Boot         int64\n",
              "Hibernate           int64\n",
              "NLP                 int64\n",
              "CV                  int64\n",
              "JS                  int64\n",
              "React               int64\n",
              "Node                int64\n",
              "Angular             int64\n",
              "Dart                int64\n",
              "Flutter             int64\n",
              "Vb.Net              int64\n",
              "dtype: object"
            ]
          },
          "metadata": {},
          "execution_count": 8
        }
      ],
      "source": [
        "df_skills.dtypes \n",
        "#All of the same type too."
      ]
    },
    {
      "cell_type": "markdown",
      "source": [
        "We'll read in *Final_Employees_Data.xls* dataset:"
      ],
      "metadata": {
        "id": "ihqApjvaoS03"
      }
    },
    {
      "cell_type": "code",
      "source": [
        "df_emp = pd.read_csv(\"/Final_Employees_Data.xls\")"
      ],
      "metadata": {
        "id": "Es_9LabDoA_j"
      },
      "execution_count": null,
      "outputs": []
    },
    {
      "cell_type": "code",
      "execution_count": null,
      "metadata": {
        "colab": {
          "base_uri": "https://localhost:8080/",
          "height": 357
        },
        "id": "nvSi2rHVfG4m",
        "outputId": "220cdd14-4822-4340-e06a-77d838b63941"
      },
      "outputs": [
        {
          "output_type": "execute_result",
          "data": {
            "text/plain": [
              "   Eid             Ename  Experience  Total_projects    Rating  \\\n",
              "0    1         Dana Bond           2               2  1.000000   \n",
              "1    2     Jesus Hampton           9              13  1.444444   \n",
              "2    3      Teresa Munoz          15              16  1.066667   \n",
              "3    4  Annette Dipietro          18              19  1.055556   \n",
              "4    5  Jennifer Fortner          22              15  0.681818   \n",
              "\n",
              "  Area_of_Interest_1 Area_of_Interest_2 Area_of_Interest_3 Language1  \\\n",
              "0             DotNet                 JS                 AI   English   \n",
              "1             DotNet                 AI                 JS   English   \n",
              "2                 ML                 JS               Java   English   \n",
              "3             DotNet                 ML             Mobile   English   \n",
              "4             Mobile               Java                 JS   English   \n",
              "\n",
              "  Language2  Language3  AI_project_count  ML_project_count  JS_project_count  \\\n",
              "0     Hindi      Tamil                 0                 1                 1   \n",
              "1     Hindi  Malayalam                 4                 3                 0   \n",
              "2   Kannada    Chinese                 3                 3                 1   \n",
              "3   Chinese      Tamil                 4                 4                 2   \n",
              "4   Chinese     Telugu                 3                 4                 3   \n",
              "\n",
              "   Java_project_count  DotNet_project_count  Mobile_project_count  \n",
              "0                   0                     0                     0  \n",
              "1                   2                     3                     1  \n",
              "2                   3                     5                     1  \n",
              "3                   3                     3                     3  \n",
              "4                   1                     1                     3  "
            ],
            "text/html": [
              "\n",
              "  <div id=\"df-a605cebc-6de4-40c2-8ac3-ee3ae7acee1c\">\n",
              "    <div class=\"colab-df-container\">\n",
              "      <div>\n",
              "<style scoped>\n",
              "    .dataframe tbody tr th:only-of-type {\n",
              "        vertical-align: middle;\n",
              "    }\n",
              "\n",
              "    .dataframe tbody tr th {\n",
              "        vertical-align: top;\n",
              "    }\n",
              "\n",
              "    .dataframe thead th {\n",
              "        text-align: right;\n",
              "    }\n",
              "</style>\n",
              "<table border=\"1\" class=\"dataframe\">\n",
              "  <thead>\n",
              "    <tr style=\"text-align: right;\">\n",
              "      <th></th>\n",
              "      <th>Eid</th>\n",
              "      <th>Ename</th>\n",
              "      <th>Experience</th>\n",
              "      <th>Total_projects</th>\n",
              "      <th>Rating</th>\n",
              "      <th>Area_of_Interest_1</th>\n",
              "      <th>Area_of_Interest_2</th>\n",
              "      <th>Area_of_Interest_3</th>\n",
              "      <th>Language1</th>\n",
              "      <th>Language2</th>\n",
              "      <th>Language3</th>\n",
              "      <th>AI_project_count</th>\n",
              "      <th>ML_project_count</th>\n",
              "      <th>JS_project_count</th>\n",
              "      <th>Java_project_count</th>\n",
              "      <th>DotNet_project_count</th>\n",
              "      <th>Mobile_project_count</th>\n",
              "    </tr>\n",
              "  </thead>\n",
              "  <tbody>\n",
              "    <tr>\n",
              "      <th>0</th>\n",
              "      <td>1</td>\n",
              "      <td>Dana Bond</td>\n",
              "      <td>2</td>\n",
              "      <td>2</td>\n",
              "      <td>1.000000</td>\n",
              "      <td>DotNet</td>\n",
              "      <td>JS</td>\n",
              "      <td>AI</td>\n",
              "      <td>English</td>\n",
              "      <td>Hindi</td>\n",
              "      <td>Tamil</td>\n",
              "      <td>0</td>\n",
              "      <td>1</td>\n",
              "      <td>1</td>\n",
              "      <td>0</td>\n",
              "      <td>0</td>\n",
              "      <td>0</td>\n",
              "    </tr>\n",
              "    <tr>\n",
              "      <th>1</th>\n",
              "      <td>2</td>\n",
              "      <td>Jesus Hampton</td>\n",
              "      <td>9</td>\n",
              "      <td>13</td>\n",
              "      <td>1.444444</td>\n",
              "      <td>DotNet</td>\n",
              "      <td>AI</td>\n",
              "      <td>JS</td>\n",
              "      <td>English</td>\n",
              "      <td>Hindi</td>\n",
              "      <td>Malayalam</td>\n",
              "      <td>4</td>\n",
              "      <td>3</td>\n",
              "      <td>0</td>\n",
              "      <td>2</td>\n",
              "      <td>3</td>\n",
              "      <td>1</td>\n",
              "    </tr>\n",
              "    <tr>\n",
              "      <th>2</th>\n",
              "      <td>3</td>\n",
              "      <td>Teresa Munoz</td>\n",
              "      <td>15</td>\n",
              "      <td>16</td>\n",
              "      <td>1.066667</td>\n",
              "      <td>ML</td>\n",
              "      <td>JS</td>\n",
              "      <td>Java</td>\n",
              "      <td>English</td>\n",
              "      <td>Kannada</td>\n",
              "      <td>Chinese</td>\n",
              "      <td>3</td>\n",
              "      <td>3</td>\n",
              "      <td>1</td>\n",
              "      <td>3</td>\n",
              "      <td>5</td>\n",
              "      <td>1</td>\n",
              "    </tr>\n",
              "    <tr>\n",
              "      <th>3</th>\n",
              "      <td>4</td>\n",
              "      <td>Annette Dipietro</td>\n",
              "      <td>18</td>\n",
              "      <td>19</td>\n",
              "      <td>1.055556</td>\n",
              "      <td>DotNet</td>\n",
              "      <td>ML</td>\n",
              "      <td>Mobile</td>\n",
              "      <td>English</td>\n",
              "      <td>Chinese</td>\n",
              "      <td>Tamil</td>\n",
              "      <td>4</td>\n",
              "      <td>4</td>\n",
              "      <td>2</td>\n",
              "      <td>3</td>\n",
              "      <td>3</td>\n",
              "      <td>3</td>\n",
              "    </tr>\n",
              "    <tr>\n",
              "      <th>4</th>\n",
              "      <td>5</td>\n",
              "      <td>Jennifer Fortner</td>\n",
              "      <td>22</td>\n",
              "      <td>15</td>\n",
              "      <td>0.681818</td>\n",
              "      <td>Mobile</td>\n",
              "      <td>Java</td>\n",
              "      <td>JS</td>\n",
              "      <td>English</td>\n",
              "      <td>Chinese</td>\n",
              "      <td>Telugu</td>\n",
              "      <td>3</td>\n",
              "      <td>4</td>\n",
              "      <td>3</td>\n",
              "      <td>1</td>\n",
              "      <td>1</td>\n",
              "      <td>3</td>\n",
              "    </tr>\n",
              "  </tbody>\n",
              "</table>\n",
              "</div>\n",
              "      <button class=\"colab-df-convert\" onclick=\"convertToInteractive('df-a605cebc-6de4-40c2-8ac3-ee3ae7acee1c')\"\n",
              "              title=\"Convert this dataframe to an interactive table.\"\n",
              "              style=\"display:none;\">\n",
              "        \n",
              "  <svg xmlns=\"http://www.w3.org/2000/svg\" height=\"24px\"viewBox=\"0 0 24 24\"\n",
              "       width=\"24px\">\n",
              "    <path d=\"M0 0h24v24H0V0z\" fill=\"none\"/>\n",
              "    <path d=\"M18.56 5.44l.94 2.06.94-2.06 2.06-.94-2.06-.94-.94-2.06-.94 2.06-2.06.94zm-11 1L8.5 8.5l.94-2.06 2.06-.94-2.06-.94L8.5 2.5l-.94 2.06-2.06.94zm10 10l.94 2.06.94-2.06 2.06-.94-2.06-.94-.94-2.06-.94 2.06-2.06.94z\"/><path d=\"M17.41 7.96l-1.37-1.37c-.4-.4-.92-.59-1.43-.59-.52 0-1.04.2-1.43.59L10.3 9.45l-7.72 7.72c-.78.78-.78 2.05 0 2.83L4 21.41c.39.39.9.59 1.41.59.51 0 1.02-.2 1.41-.59l7.78-7.78 2.81-2.81c.8-.78.8-2.07 0-2.86zM5.41 20L4 18.59l7.72-7.72 1.47 1.35L5.41 20z\"/>\n",
              "  </svg>\n",
              "      </button>\n",
              "      \n",
              "  <style>\n",
              "    .colab-df-container {\n",
              "      display:flex;\n",
              "      flex-wrap:wrap;\n",
              "      gap: 12px;\n",
              "    }\n",
              "\n",
              "    .colab-df-convert {\n",
              "      background-color: #E8F0FE;\n",
              "      border: none;\n",
              "      border-radius: 50%;\n",
              "      cursor: pointer;\n",
              "      display: none;\n",
              "      fill: #1967D2;\n",
              "      height: 32px;\n",
              "      padding: 0 0 0 0;\n",
              "      width: 32px;\n",
              "    }\n",
              "\n",
              "    .colab-df-convert:hover {\n",
              "      background-color: #E2EBFA;\n",
              "      box-shadow: 0px 1px 2px rgba(60, 64, 67, 0.3), 0px 1px 3px 1px rgba(60, 64, 67, 0.15);\n",
              "      fill: #174EA6;\n",
              "    }\n",
              "\n",
              "    [theme=dark] .colab-df-convert {\n",
              "      background-color: #3B4455;\n",
              "      fill: #D2E3FC;\n",
              "    }\n",
              "\n",
              "    [theme=dark] .colab-df-convert:hover {\n",
              "      background-color: #434B5C;\n",
              "      box-shadow: 0px 1px 3px 1px rgba(0, 0, 0, 0.15);\n",
              "      filter: drop-shadow(0px 1px 2px rgba(0, 0, 0, 0.3));\n",
              "      fill: #FFFFFF;\n",
              "    }\n",
              "  </style>\n",
              "\n",
              "      <script>\n",
              "        const buttonEl =\n",
              "          document.querySelector('#df-a605cebc-6de4-40c2-8ac3-ee3ae7acee1c button.colab-df-convert');\n",
              "        buttonEl.style.display =\n",
              "          google.colab.kernel.accessAllowed ? 'block' : 'none';\n",
              "\n",
              "        async function convertToInteractive(key) {\n",
              "          const element = document.querySelector('#df-a605cebc-6de4-40c2-8ac3-ee3ae7acee1c');\n",
              "          const dataTable =\n",
              "            await google.colab.kernel.invokeFunction('convertToInteractive',\n",
              "                                                     [key], {});\n",
              "          if (!dataTable) return;\n",
              "\n",
              "          const docLinkHtml = 'Like what you see? Visit the ' +\n",
              "            '<a target=\"_blank\" href=https://colab.research.google.com/notebooks/data_table.ipynb>data table notebook</a>'\n",
              "            + ' to learn more about interactive tables.';\n",
              "          element.innerHTML = '';\n",
              "          dataTable['output_type'] = 'display_data';\n",
              "          await google.colab.output.renderOutput(dataTable, element);\n",
              "          const docLink = document.createElement('div');\n",
              "          docLink.innerHTML = docLinkHtml;\n",
              "          element.appendChild(docLink);\n",
              "        }\n",
              "      </script>\n",
              "    </div>\n",
              "  </div>\n",
              "  "
            ]
          },
          "metadata": {},
          "execution_count": 10
        }
      ],
      "source": [
        "df_emp.head()"
      ]
    },
    {
      "cell_type": "code",
      "execution_count": null,
      "metadata": {
        "id": "doB4yrNifzMK",
        "colab": {
          "base_uri": "https://localhost:8080/"
        },
        "outputId": "26cb1810-da69-4fd3-cfa8-820dfef92316"
      },
      "outputs": [
        {
          "output_type": "execute_result",
          "data": {
            "text/plain": [
              "Eid                     0\n",
              "Ename                   0\n",
              "Experience              0\n",
              "Total_projects          0\n",
              "Rating                  0\n",
              "Area_of_Interest_1      0\n",
              "Area_of_Interest_2      0\n",
              "Area_of_Interest_3      0\n",
              "Language1               0\n",
              "Language2               0\n",
              "Language3               0\n",
              "AI_project_count        0\n",
              "ML_project_count        0\n",
              "JS_project_count        0\n",
              "Java_project_count      0\n",
              "DotNet_project_count    0\n",
              "Mobile_project_count    0\n",
              "dtype: int64"
            ]
          },
          "metadata": {},
          "execution_count": 11
        }
      ],
      "source": [
        "df_emp.isnull().sum()\n",
        "#Also, no null values."
      ]
    },
    {
      "cell_type": "code",
      "execution_count": null,
      "metadata": {
        "id": "skNkuKbif9hG",
        "colab": {
          "base_uri": "https://localhost:8080/"
        },
        "outputId": "f61577a7-bc98-4d67-d0f1-2953e7e18df1"
      },
      "outputs": [
        {
          "output_type": "stream",
          "name": "stdout",
          "text": [
            "Eid : [   1    2    3    4    5    6    7    8    9   10   11   12   13   14\n",
            "   15   16   17   18   19   20   21   22   23   24   25   26   27   28\n",
            "   29   30   31   32   33   34   35   36   37   38   39   40   41   42\n",
            "   43   44   45   46   47   48   49   50   51   52   53   54   55   56\n",
            "   57   58   59   60   61   62   63   64   65   66   67   68   69   70\n",
            "   71   72   73   74   75   76   77   78   79   80   81   82   83   84\n",
            "   85   86   87   88   89   90   91   92   93   94   95   96   97   98\n",
            "   99  100  101  102  103  104  105  106  107  108  109  110  111  112\n",
            "  113  114  115  116  117  118  119  120  121  122  123  124  125  126\n",
            "  127  128  129  130  131  132  133  134  135  136  137  138  139  140\n",
            "  141  142  143  144  145  146  147  148  149  150  151  152  153  154\n",
            "  155  156  157  158  159  160  161  162  163  164  165  166  167  168\n",
            "  169  170  171  172  173  174  175  176  177  178  179  180  181  182\n",
            "  183  184  185  186  187  188  189  190  191  192  193  194  195  196\n",
            "  197  198  199  200  201  202  203  204  205  206  207  208  209  210\n",
            "  211  212  213  214  215  216  217  218  219  220  221  222  223  224\n",
            "  225  226  227  228  229  230  231  232  233  234  235  236  237  238\n",
            "  239  240  241  242  243  244  245  246  247  248  249  250  251  252\n",
            "  253  254  255  256  257  258  259  260  261  262  263  264  265  266\n",
            "  267  268  269  270  271  272  273  274  275  276  277  278  279  280\n",
            "  281  282  283  284  285  286  287  288  289  290  291  292  293  294\n",
            "  295  296  297  298  299  300  301  302  303  304  305  306  307  308\n",
            "  309  310  311  312  313  314  315  316  317  318  319  320  321  322\n",
            "  323  324  325  326  327  328  329  330  331  332  333  334  335  336\n",
            "  337  338  339  340  341  342  343  344  345  346  347  348  349  350\n",
            "  351  352  353  354  355  356  357  358  359  360  361  362  363  364\n",
            "  365  366  367  368  369  370  371  372  373  374  375  376  377  378\n",
            "  379  380  381  382  383  384  385  386  387  388  389  390  391  392\n",
            "  393  394  395  396  397  398  399  400  401  402  403  404  405  406\n",
            "  407  408  409  410  411  412  413  414  415  416  417  418  419  420\n",
            "  421  422  423  424  425  426  427  428  429  430  431  432  433  434\n",
            "  435  436  437  438  439  440  441  442  443  444  445  446  447  448\n",
            "  449  450  451  452  453  454  455  456  457  458  459  460  461  462\n",
            "  463  464  465  466  467  468  469  470  471  472  473  474  475  476\n",
            "  477  478  479  480  481  482  483  484  485  486  487  488  489  490\n",
            "  491  492  493  494  495  496  497  498  499  500  501  502  503  504\n",
            "  505  506  507  508  509  510  511  512  513  514  515  516  517  518\n",
            "  519  520  521  522  523  524  525  526  527  528  529  530  531  532\n",
            "  533  534  535  536  537  538  539  540  541  542  543  544  545  546\n",
            "  547  548  549  550  551  552  553  554  555  556  557  558  559  560\n",
            "  561  562  563  564  565  566  567  568  569  570  571  572  573  574\n",
            "  575  576  577  578  579  580  581  582  583  584  585  586  587  588\n",
            "  589  590  591  592  593  594  595  596  597  598  599  600  601  602\n",
            "  603  604  605  606  607  608  609  610  611  612  613  614  615  616\n",
            "  617  618  619  620  621  622  623  624  625  626  627  628  629  630\n",
            "  631  632  633  634  635  636  637  638  639  640  641  642  643  644\n",
            "  645  646  647  648  649  650  651  652  653  654  655  656  657  658\n",
            "  659  660  661  662  663  664  665  666  667  668  669  670  671  672\n",
            "  673  674  675  676  677  678  679  680  681  682  683  684  685  686\n",
            "  687  688  689  690  691  692  693  694  695  696  697  698  699  700\n",
            "  701  702  703  704  705  706  707  708  709  710  711  712  713  714\n",
            "  715  716  717  718  719  720  721  722  723  724  725  726  727  728\n",
            "  729  730  731  732  733  734  735  736  737  738  739  740  741  742\n",
            "  743  744  745  746  747  748  749  750  751  752  753  754  755  756\n",
            "  757  758  759  760  761  762  763  764  765  766  767  768  769  770\n",
            "  771  772  773  774  775  776  777  778  779  780  781  782  783  784\n",
            "  785  786  787  788  789  790  791  792  793  794  795  796  797  798\n",
            "  799  800  801  802  803  804  805  806  807  808  809  810  811  812\n",
            "  813  814  815  816  817  818  819  820  821  822  823  824  825  826\n",
            "  827  828  829  830  831  832  833  834  835  836  837  838  839  840\n",
            "  841  842  843  844  845  846  847  848  849  850  851  852  853  854\n",
            "  855  856  857  858  859  860  861  862  863  864  865  866  867  868\n",
            "  869  870  871  872  873  874  875  876  877  878  879  880  881  882\n",
            "  883  884  885  886  887  888  889  890  891  892  893  894  895  896\n",
            "  897  898  899  900  901  902  903  904  905  906  907  908  909  910\n",
            "  911  912  913  914  915  916  917  918  919  920  921  922  923  924\n",
            "  925  926  927  928  929  930  931  932  933  934  935  936  937  938\n",
            "  939  940  941  942  943  944  945  946  947  948  949  950  951  952\n",
            "  953  954  955  956  957  958  959  960  961  962  963  964  965  966\n",
            "  967  968  969  970  971  972  973  974  975  976  977  978  979  980\n",
            "  981  982  983  984  985  986  987  988  989  990  991  992  993  994\n",
            "  995  996  997  998  999 1000]\n",
            "====================================\n",
            "Ename : ['Dana Bond' 'Jesus Hampton' 'Teresa Munoz' 'Annette Dipietro'\n",
            " 'Jennifer Fortner' 'Mary Todd' 'Nicolas Fulcher' 'Bernice Bousquet'\n",
            " 'William Berger' 'Kennith Hamilton' 'Shannon Berryhill' 'Rachel Morse'\n",
            " 'Robert Wilson' 'Shirley Mcmahon' 'Jeffery Parikh' 'Shannon Campo'\n",
            " 'Charles Vine' 'John Peters' 'Lawrence Litzenberg' 'Michael Harpole'\n",
            " 'Jeanne Tovar' 'Patricia Shepherd' 'John Pina' 'Alan Denny'\n",
            " 'Rogelio Singletary' 'John Trout' 'Roberta Barnes' 'Corinne Burnley'\n",
            " 'Sandra Matthews' 'Digna Williams' 'Anna Carmona' 'George Hill'\n",
            " 'Norma Runyan' 'Sandra Mosher' 'Elsie Holman' 'Tony Hefferon'\n",
            " 'Joseph Parsons' 'Jose Buresh' 'Larry Barton' 'Lillian Rork'\n",
            " 'Maria Sikes' 'Felicia Lampe' 'Maria Williamson' 'Kathryn Ehrhart'\n",
            " 'Christine Geronimo' 'Danielle Farmer' 'Alice Jordan' 'Donna Garza'\n",
            " 'James Copper' 'Melody Jones' 'Barbara Amick' 'Melissa Montoya'\n",
            " 'Samantha Vasquez' 'Esperanza Galletti' 'Leroy Smith' 'Gertrude Curtis'\n",
            " 'Yvonne Caron' 'Lisa Green' 'Clare Stockton' 'Candace Odum' 'Linda Reck'\n",
            " 'Sallie Jennings' 'Tarsha Caines' 'Wayne Johnson' 'Jesusita Adams'\n",
            " 'John Campos' 'Tabatha Pena' 'Timothy Mcpherson' 'Brandon Wainwright'\n",
            " 'Bruce Ellis' 'Robert Saddler' 'Cathy Brown' 'Marianne Welsh'\n",
            " 'Antonio Mcclanan' 'Carol Defabio' 'Marion Hicks' 'Brian Sparks'\n",
            " 'Alan Duncan' 'Lloyd Lahay' 'Melissa Cruz' 'Patrick Scavone'\n",
            " 'Barrie Cosgrove' 'Judy Minton' 'Jose Durrant' 'Rebecca Marlow'\n",
            " 'Nancy Jackson' 'Kenneth Heyne' 'Kathryn Cottrell' 'Candace Robinson'\n",
            " 'Sarah Burkley' 'William Hawkins' 'Dominick Cruz' 'Jerry Parkinson'\n",
            " 'William Wolf' 'Charles Braxton' 'Diane Williams' 'Sarah Wilson'\n",
            " 'Erika Brown' 'Paul Ortiz' 'Suzanne Devoe' 'George Carbaugh'\n",
            " 'Scott Alexander' 'Eric Keister' 'Ben Osler' 'Anthony Roe' 'Sue Bonn'\n",
            " 'Ila Emberling' 'Douglas Harrington' 'Francis Pounds' 'James Sachs'\n",
            " 'Iris Meier' 'Mary Page' 'Norma Lewis' 'Kimberly Lozano' 'Leo Pagan'\n",
            " 'Rosalyn Garden' 'Violet Fisher' 'Floyd Fernandez' 'Linda Leung'\n",
            " 'David Rankin' 'Melvin Gutierrez' 'Andrea Christensen' 'Laura Bosco'\n",
            " 'Robert Harrison' 'Patricia Parks' 'Johnna Haag' 'Marcy Martin'\n",
            " 'Mary Vaughan' 'Michael Flatt' 'Debbie Pulver' 'Jean Blow'\n",
            " 'John Lebarron' 'Barbara Washington' 'Michele Garguilo' 'Erick Shaw'\n",
            " 'Tiffany Secrest' 'Daniel Roberge' 'Jennifer Collins' 'Melinda Johnson'\n",
            " 'Tami Williams' 'Clyde Young' 'Brian Vaughan' 'Donna Morgia'\n",
            " 'Louise Woody' 'Rose Kelly' 'Lucy Montoya' 'Heather Martinez'\n",
            " 'Estelle Lamm' 'William Champion' 'Theron Degennaro' 'Jeff Applebee'\n",
            " 'Cecilia Dale' 'John Ervin' 'Earl Wood' 'Jeromy Muriel' 'Beryl Rogers'\n",
            " 'Hope Hicks' 'Cora Jones' 'Reuben Sparks' 'Stacia Aita' 'Yolanda Kramer'\n",
            " 'Tracy Houston' 'David Berry' 'Willis Ingram' 'Justin Scott' 'Wade Gass'\n",
            " 'Bobby Fields' 'Jacob Crouch' 'Daniel Arvizu' 'Scott Brown'\n",
            " 'Donna Goddard' 'Larry Jensen' 'Susan Carrillo' 'Edward Gonzalez'\n",
            " 'Carmen Brock' 'Dan Christian' 'Raymond Volesky' 'Freda Vega'\n",
            " 'Benny Mendoza' 'Marilyn Dec' 'Christina Cable' 'Rita Sackett'\n",
            " 'Mary Martins' 'Natasha Wagner' 'Thomas Torres' 'Larry Jopling'\n",
            " 'Mable Billiot' 'James Williams' 'Robin West' 'Amy Meyer' 'Sam Sanchez'\n",
            " 'Melissa Hernandez' 'Jessica Montgomery' 'Latanya Brooks'\n",
            " 'Latonya Bradley' 'Johnny Garcia' 'Gale Newell' 'Ashley Lindsay'\n",
            " 'Jeffery Delisio' 'Linda Sharp' 'Christopher Ross' 'Laura Canon'\n",
            " 'Sharyn Brown' 'Antonio Steffan' 'Kathryn Shultz' 'John Short'\n",
            " 'Danielle Keister' 'Eric Kouba' 'Julia Stanley' 'Basil Welker'\n",
            " 'Nicholas Rondeau' 'Andre Hughes' 'Celeste Cunningham' 'Christine Lara'\n",
            " 'Lara Stancil' 'Cynthia Contreras' 'Jovita Golden' 'Karen Wood'\n",
            " 'Tony Yoakum' 'Bobby Horner' 'Christopher Farnam' 'Tonya Nelson'\n",
            " 'Rita Ohmen' 'Jerry Brown' 'Mary Jones' 'Ileana Adams' 'Sandra Byrd'\n",
            " 'Tanya Bishop' 'Karen Ramsey' 'Daniel Somers' 'Melissa Ramirez'\n",
            " 'Robert Conover' 'Earle Nehring' 'Margaret Wilhelm' 'Paul Kennon'\n",
            " 'Sharon Evans' 'Gregory Pickett' 'Kay Thomas' 'Gwendolyn Barrow'\n",
            " 'Ronald Smith' 'Robert Kelsey' 'Anthony Mooney' 'Dixie Medina'\n",
            " 'Beth Ebert' 'George Thomas' 'Joseph Gunderson' 'John Davis' 'Paul Gray'\n",
            " 'Susan Brown' 'Charles Merriweather' 'Joan Swenson' 'Robert Vallejo'\n",
            " 'Oliver Lark' 'Maurice Anderson' 'Charles Bravo' 'Rachel Hunsberger'\n",
            " 'Rita Sawyer' 'Ruby Bunch' 'Gladys Sloan' 'Leon Redd' 'Harvey Mclain'\n",
            " 'Brittany Cody' 'Philip Capozzoli' 'Janice Foster' 'Robert Clodfelter'\n",
            " 'Jerry Unruh' 'Charles Hajek' 'Larry Reifsteck' 'Sue Cox'\n",
            " 'Barbara Wollschlager' 'Kent Travis' 'Gerald Craft' 'Jackie Menges'\n",
            " 'Michael Kruse' 'Perry Nelson' 'Ellie Demaio' 'Karen Leonard'\n",
            " 'Edith Pacheco' 'Miguel Thrasher' 'Catherine Scheller' 'Barbara Wing'\n",
            " 'Arturo Hemphill' 'Randolph Glasgow' 'Glen Gautreau' 'Michelle Edgar'\n",
            " 'Steven Ramos' 'Helene Schmalz' 'Paul Anderson' 'Timothy Braziel'\n",
            " 'Debra Rogers' 'Michael Wells' 'Elsie Coney' 'Michael Rolle'\n",
            " 'Elsie Cucco' 'Roy Goins' 'Robert Caroll' 'William Woods' 'Curtis Milam'\n",
            " 'Marie Johnson' 'Willie Fuoco' 'Jack Deyoung' 'Gary Dollard'\n",
            " 'Kum Ashcraft' 'Dianne White' 'Patricia Bourgeois' 'Marie Cherry'\n",
            " 'James Magallon' 'Virginia Mcshea' 'Doris Jean' 'Kathryn Gault'\n",
            " 'Ross Markow' 'Deena York' 'Michael Sisk' 'Sandie Bautista' 'Mary Rhea'\n",
            " 'Louis Dupont' 'Kerri White' 'Huey Hill' 'Neil Elton' 'George Mitchell'\n",
            " 'Adrian Cooley' 'Eric Conrad' 'Marie Sanchez' 'Gloria Jones' 'Cindy Mata'\n",
            " 'Leila Oakes' 'Lucille Lunsford' 'Sonia Anderson' 'Barbara Pritt'\n",
            " 'Holly Wakefield' 'Elaine Aliaga' 'Vincent Hatley' 'Gilbert Hudnall'\n",
            " 'Robbie Dew' 'Steven Buck' 'Joseph Stone' 'Bruce Arnold'\n",
            " 'William Grenier' 'Juan Aragon' 'Brain Moe' 'Michael Craddock'\n",
            " 'Courtney Whelan' 'John Stevens' 'Katie Barton' 'Lori Spurlock'\n",
            " 'Joshua Sand' 'Peggy Luna' 'Paul Mack' 'Peggy Clark' 'David Williams'\n",
            " 'Charles Amaya' 'Rosella Perze' 'Sarah Young' 'Kathleen Wheeler'\n",
            " 'Alaine Rehberg' 'Martha Wilson' 'Anita Harrelson' 'Santos Goode'\n",
            " 'Chad Gamache' 'Patricia Dudley' 'Emilio Marra' 'Jason Burden'\n",
            " 'Johnetta Cheung' 'Martin Rosado' 'Casey Mcintyre' 'Eleanor Davis'\n",
            " 'Reynaldo Hart' 'Harold Friedman' 'Faith Ramirez' 'Laura Reynolds'\n",
            " 'Lawrence Armstrong' 'Katie Pena' 'June Gehring' 'Jessica Tiffany'\n",
            " 'Willie Johnson' 'Pamela Scruggs' 'Kathy Price' 'Stacey Mcginty'\n",
            " 'Joseph Pribble' 'Beatriz Bruss' 'Miriam Levan' 'Cathy Carns'\n",
            " 'Julio Tatom' 'John Hance' 'Melissa Chean' 'Marie Whitt'\n",
            " 'Linda Richardson' 'Stephan Perez' 'Darin Becker' 'Erin Bade'\n",
            " 'Rosa Montgomery' 'Charles Rose' 'Dana Alba' 'Armando Smith'\n",
            " 'Beverly Klein' 'Theron Smith' 'Cecilia Islam' 'Jose Clark'\n",
            " 'Donna Farnsworth' 'Valerie Lacy' 'Nydia Schwing' 'Gary Sanchez'\n",
            " 'Cyrus Aragon' 'Ashley Hippen' 'Elena Cramer' 'Carl Matsuno'\n",
            " 'Laura Allen' 'Annie Santana' 'Nancy Howe' 'Jerome Underwood'\n",
            " 'Rosemary Romero' 'Cynthia Malkin' 'Dora Rainforth' 'Dennis Bisonette'\n",
            " 'Gary Wallace' 'Cathy Small' 'Kenneth Tuten' 'Mary Cush' 'Peter Skeeter'\n",
            " 'Joan Mejia' 'Theron Nelson' 'Vivian Carver' 'Zachary Hafenstein'\n",
            " 'Amanda Stollings' 'Frederick Davey' 'Dominick Mckenzie' 'Carol Keller'\n",
            " 'Kera Cook' 'Mary Gunning' 'Ann Marsh' 'Ronald Gaughan' 'Anna Crays'\n",
            " 'Robert Rezac' 'Janis Strickland' 'Frances Mackenzie' 'Joseph Marcum'\n",
            " 'Betty Rodriguez' 'Raul Knox' 'Lisa Mondragon' 'Shannon Mcintosh'\n",
            " 'Leon Kramer' 'John Fitzgerald' 'Rena Price' 'Susan Spears' 'Rose Brady'\n",
            " 'Jennifer Garcia' 'Lucille Tousom' 'Helen Simpson' 'Mike Blaize'\n",
            " 'Benjamin Wilcoxen' 'Patricia Bonn' 'Joe Ballard' 'Norma Symes'\n",
            " 'Jennifer Wood' 'Heather Gonzalez' 'Nicholas Durbin' 'Arnold Witaszek'\n",
            " 'William Buchanan' 'Linda Nunmaker' 'Rose Bailey' 'Adele Garren'\n",
            " 'Robert Good' 'Maria Deese' 'John Gutierrez' 'Rosa Bongiorno'\n",
            " 'Beatriz Lee' 'Patricia Lewis' 'Robert Martin' 'Corinne Slinkard'\n",
            " 'Tina Villalta' 'Naomi Risher' 'Jimmie Johnston' 'Deborah Coles'\n",
            " 'Thomas Salazar' 'James Bevan' 'Bryan Hanson' 'Jeffrey Denny'\n",
            " 'Kenneth Crossman' 'James Mcgee' 'Celia Jackson' 'Terresa Wright'\n",
            " 'Jack Coffin' 'Pedro Clinton' 'Patricia Dominguez' 'Phyllis Dekany'\n",
            " 'Melvin Romero' 'Ruth Murray' 'Erin Quarles' 'Jimmy Klein'\n",
            " 'Cammie Farris' 'Gary Tabron' 'Eric Woodall' 'Karie Keenan'\n",
            " 'Carol Tretheway' 'Norene Mcfadden' 'Sherry Landers' 'Dustin Harris'\n",
            " 'Blanche Debaecke' 'Melody Best' 'Robert Woodberry' 'Tiffany Franklin'\n",
            " 'Jonathan Cropper' 'Paul Moore' 'Jerry Baier' 'Sara Hernandez'\n",
            " 'Orlando Schuld' 'Thomas Nelson' 'Patrick Constantini' 'Rikki Felix'\n",
            " 'Dorothy Kenimer' 'Ronnie Modi' 'David Edmonds' 'Larry Rodriguez'\n",
            " 'Anna Bell' 'Lori Adams' 'Tamara Wright' 'Clara Benoist' 'Dolores Lee'\n",
            " 'Rakesh Raj' 'Leslie Johnson' 'Edward Samons' 'Berniece Cockrell'\n",
            " 'Yoshiko Mcdonald' 'Angie Eberts' 'Diane Gregory' 'Kimberly Deen'\n",
            " 'Maureen Craddock' 'David Owens' 'Doyle Werts' 'Charlotte Suarez'\n",
            " 'Terry Laughlin' 'Angelina Scerra' 'Scott Billings' 'Laura Pouncey'\n",
            " 'Ericka Burke' 'Hazel Stanley' 'Harry Vanhouten' 'Mary Palomo'\n",
            " 'Steven Manley' 'Brittany Vario' 'Lloyd Baker' 'Luke Strause'\n",
            " 'Elizabeth Kelly' 'Jane Truong' 'Gene Latimer' 'Petra Gaskin'\n",
            " 'Anna Chavez' 'Margaret Crowder' 'Jean Smith' 'Esperanza Urreta'\n",
            " 'Saundra Rodriguez' 'Freda Bass' 'Crystal Olvera' 'Reginald Robinson'\n",
            " 'Zachary Harrell' 'Kenneth Frey' 'Grace Perigo' 'Mildred Beaudette'\n",
            " 'Zachary Murphy' 'Barbara Bell' 'Julie Flaherty' 'Holly Barrows'\n",
            " 'Kristina Townley' 'Lindsay Jobe' 'Jennifer Moore' 'Bill Sukhu'\n",
            " 'Dolores Hickman' 'Anthony Ludlow' 'Robert Clark' 'Larry Harris'\n",
            " 'Derrick Carter' 'Betsy Jackson' 'Minnie Rubin' 'Elsa Gilliland'\n",
            " 'Darrell Desjardins' 'Anita Pearsall' 'Sharon Scerbo' 'Brooke Rounds'\n",
            " 'Allen Peterson' 'Norman Jones' 'Margaret Miller' 'David Lowry'\n",
            " 'Ray Scarnati' 'Maria Blevins' 'Jenny Baxter' 'Sarah Marshall'\n",
            " 'William Britt' 'Dale Hardy' 'Mark Tacadina' 'Renee Jackson'\n",
            " 'Jessica Mitchell' 'Violet Vincent' 'Dorene Moore' 'Elliot Parenteau'\n",
            " 'Mario Crafton' 'Henry Williams' 'Ruby Peters' 'Eunice Mullen'\n",
            " 'Betty Wood' 'Michael Everson' 'Jamal Kelley' 'Joe Ponce'\n",
            " 'Kevin Gonzales' 'Rolando Jones' 'Dana Stout' 'Jessica Clark'\n",
            " 'Manuel Jamison' 'Annette Watson' 'John Boisen' 'Indira Broaddus'\n",
            " 'Waldo Sanchez' 'Stephanie Rosenzweig' 'Marie Mitchell'\n",
            " 'Shawn Shackelford' 'Karen Sumler' 'William Jeter' 'Sylvia Eubanks'\n",
            " 'Gregory Nichols' 'Kathy Cook' 'Alexander Graham' 'Bennie Coffey'\n",
            " 'Allison Patten' 'James Cacy' 'Terrell Timme' 'Ronald Milar'\n",
            " 'Craig Girouard' 'Shelby Hillery' 'Patrick Biddle' 'Michael Young'\n",
            " 'Elizabeth Morreale' 'David Abraham' 'Diana Burchett' 'Courtney Bergeron'\n",
            " 'Clifford Boyd' 'Deann Jefferies' 'Julius Latus' 'Sandra Cottingham'\n",
            " 'John Bennett' 'Amanda Marble' 'Donald Carrier' 'Lillian Walker'\n",
            " 'Charles Hilde' 'Jeffrey Siddoway' 'James Keys' 'Sarah Cacioppo'\n",
            " 'Evelyn Wallick' 'Kyle Knott' 'Dorothy Rodriguez' 'Charles Johnson'\n",
            " 'Jeff Porter' 'Marshall Russell' 'Mary Mcclain' 'Christopher Shultz'\n",
            " 'James White' 'Jason Salas' 'Marjorie George' 'Bryan Staples'\n",
            " 'Rose Kirkland' 'Jack Magana' 'Tony Webb' 'Jesus Cameron' 'Carlos Verdin'\n",
            " 'Joseph Frey' 'Robert Lieberman' 'Doris Alverez' 'Lynne Yanez'\n",
            " 'Gina Auten' 'Charlie Smith' 'Charles Reid' 'Milton Quigley'\n",
            " 'Deann Schmidt' 'Lucy Machen' 'Joe Harris' 'Staci Beach' 'Helen Johnson'\n",
            " 'William Wojenski' 'Elizabeth Caldwell' 'Kathleen Yazzie'\n",
            " 'David Whitaker' 'Robert Simon' 'Eric Smith' 'Peter Ozuna' 'Stephen Ross'\n",
            " 'Ronald Brown' 'Alberta Fanter' 'Jennifer Robinson' 'Andrew Lehman'\n",
            " 'James Medlock' 'Brittany Thompkins' 'Brian Best' 'Ricky Lee'\n",
            " 'Lillian Masom' 'Margaret Mettler' 'Shane Jones' 'Michael Anderman'\n",
            " 'Brandon Wallace' 'Elizabeth Yeend' 'Katelyn Pearson' 'Viola Montoya'\n",
            " 'Dana Amin' 'Martha Robinson' 'Rita Miller' 'Linda Crawford'\n",
            " 'Jonathan Cochran' 'Mark Odell' 'Catherine Ellis' 'Christopher Stuckey'\n",
            " 'Pedro Mcginnis' 'Royce Bowers' 'Brendon Irvine' 'Charles Daniels'\n",
            " 'John Gonzalez' 'Stanley Hooks' 'George Prosser' 'Alexander Fitzsimmons'\n",
            " 'Beth Short' 'Russell Bacon' 'David Butler' 'Dina Mahoney' 'Carl Heyde'\n",
            " 'Michael Ferguson' 'Maureen Johnson' 'Katherine Cornell' 'Roxanne Furr'\n",
            " 'Sandra Onks' 'Mabel Duane' 'Michael Harrison' 'Linda Zane' 'Joni Eakin'\n",
            " 'Rubin Centini' 'Wayne Brandenberger' 'Susan Lassiter' 'David Hyneman'\n",
            " 'Esther Witherspoon' 'Ralph Harris' 'China Lebovic' 'Charles Connelly'\n",
            " 'Nick William' 'Simon Chapman' 'Gilbert Rowden' 'Raymond Rivera'\n",
            " 'Allen Hawkins' 'Larry Gibson' 'Karissa Taylor' 'Elias Trimble'\n",
            " 'Paul Hicks' 'Edwin Feldkamp' 'John Priest' 'Betty Yang' 'Jason Oneal'\n",
            " 'Richard Vanicek' 'David Moore' 'Walter Couch' 'Annette Oflaherty'\n",
            " 'Duane Grant' 'Sean Virgilio' 'Ruby Davis' 'Henry Wheeler'\n",
            " 'Shaun Vanhook' 'Jaime Manjarrez' 'Josephine Johnson' 'Clara Herring'\n",
            " 'James Stamdifer' 'Kevin Cocks' 'Daniel Cast' 'Sarah Coates' 'Leo Nest'\n",
            " 'Sarah Gohn' 'Christian Medina' 'Edna Atwell' 'Tim Miller'\n",
            " 'Christy Delarosa' 'Michael Graham' 'Gary Lilly' 'Steve Good'\n",
            " 'Connie Hayes' 'Elvis Elliam' 'Cynthia Williams' 'Carl Granger'\n",
            " 'Alison Marti' 'Maryann Simmons' 'Billie Lee' 'Maxine Person'\n",
            " 'Doreen Mcentyre' 'Linda Bales' 'Justin Davis' 'Michael Avila'\n",
            " 'William Mackey' 'Norman Cannon' 'Lucy Kight' 'Michael Joseph'\n",
            " 'Johnny Middleton' 'Heather Kovach' 'Sophia Massiah' 'Mamie Threlkeld'\n",
            " 'Christian Tederous' 'Travis Amos' 'Charles Vandergriff'\n",
            " 'Jimmie Williams' 'Barbara Jeter' 'Pam Hicks' 'Christopher Timbers'\n",
            " 'Jerry Raymond' 'Mary Laswell' 'Charlotte Wortham' 'Garry Pollard'\n",
            " 'Helen Murdock' 'Kathleen English' 'Wallace Crowell' 'David Dipiano'\n",
            " 'Donald Ruybal' 'Lillian Mayer' 'Shelia Mead' 'Bruce Stuart'\n",
            " 'Kenneth Mcclaine' 'Nancy Knight' 'William Vargas' 'Brian Devine'\n",
            " 'Julie Mitchell' 'Bonnie Clark' 'Albert Coble' 'Charles Masker'\n",
            " 'Felix Lewis' 'Gary Blake' 'Donald Cole' 'James Smith' 'Beverly Oconnor'\n",
            " 'Johnny Campbell' 'Joseph Huslander' 'Alycia Green' 'Chris Mchugh'\n",
            " 'Karen Smith' 'Ida Cooper' 'Vickie Parker' 'Ruth Jiron' 'Elena Sheets'\n",
            " 'Lawrence Burns' 'Frank Aurand' 'Melissa Apodaca' 'Jared Powell'\n",
            " 'Maria Malone' 'John Hughes' 'Anthony Baker' 'Rebecca Barrett'\n",
            " 'Johnnie Gomez' 'Tonya Stroth' 'Deborah Williams' 'Rosemary Hughes'\n",
            " 'Alma Martin' 'Chris Short' 'Dustin Simmons' 'Fred Lashua' 'Dong Moss'\n",
            " 'Jennifer Villela' 'Dwain Karalis' 'Kathleen Dyches' 'Don Walker'\n",
            " 'Floyd Mateo' 'Roger Pigeon' 'Pamela Keener' 'Tony Gray' 'Daniel Godsey'\n",
            " 'Kevin Jablonski' 'Sarah Wake' 'Eddie Wester' 'Sandra Rosas' 'Jo Aiken'\n",
            " 'Nina Stuzman' 'Scott Meeks' 'James Juarez' 'Francisco German'\n",
            " 'David Esquivel' 'Eugene Caputo' 'John Lopez' 'Boyd Smith'\n",
            " 'Frank Vasquez' 'George Ramirez' 'Tabatha Ward' 'Teodoro Butler'\n",
            " 'Geoffrey Maulden' 'Denise Allen' 'Chester Sigler' 'Paris Michalik'\n",
            " 'Keith Chavis' 'Ronald Heberling' 'Jessica Harp' 'Juanita Morales'\n",
            " 'Ramona Kenney' 'Manual Isaac' 'Michael Bonds' 'Michael Slaton'\n",
            " 'Everett Tatom' 'Sarah Jones' 'Jake Dunn' 'Eva Mccombs' 'Tommy Buchanan'\n",
            " 'Franklin Larkin' 'Damaris Velazquez' 'Karen Baichan' 'Roger Newland'\n",
            " 'Dennis Butler' 'Carrie Stephens' 'Eva Notti' 'Willie Deloach'\n",
            " 'Edith Schmidt' 'James Layton' 'Bernice Goldson' 'Jeffery Mccalla'\n",
            " 'George Butler' 'Gary Jones' 'Nancy Hetrick' 'Edward Joyce' 'Terri Hooks'\n",
            " 'Christina Chavis' 'Francisco Morris' 'Daniel Cody' 'Michael Miles'\n",
            " 'Ryan Cahill' 'Gail Chesser' 'Diane Daughtry' 'Danielle Powell'\n",
            " 'Lynn Ottesen' 'Enrique Wakefield' 'Ralph Jackson' 'Carl Brown'\n",
            " 'Sherryl Carey' 'Lauren Pawloski' 'Richard Trudnowski' 'Fran Worthington'\n",
            " 'Robert Hooper' 'Duane Rodriguez' 'Son Phillips' 'Kenneth Bolton'\n",
            " 'Armando Brown' 'Cyrus Pollack' 'Stacey Hayes' 'Nicole Wilson'\n",
            " 'Chance Knox' 'Donald Dean' 'Mitchell Yeldell' 'Patricia Lesher'\n",
            " 'Lance Crook' 'Michael Plateroti' 'James Herndon' 'Margarita Noll'\n",
            " 'Esther Floyd' 'Jan Rothwell' 'Vincent Deininger' 'Charles Parker'\n",
            " 'Lorrine Granger' 'Carl Chien' 'George Slayton' 'Aaron Donahoe'\n",
            " 'Scott Pride' 'Micheal Shupe' 'Robert Nikas' 'Thomas Martin'\n",
            " 'George Shannon' 'Wanda Thao' 'June Stoneking' 'Nina Reed'\n",
            " 'William Houghton' 'Margaret Sims' 'Thomas Davis' 'Ofelia Cayea'\n",
            " 'Cornelia Gutierrez' 'Christine Warner' 'Richard Tomlin' 'Jerry Thorn'\n",
            " 'Nichole Jantz' 'Meredith Flores' 'Barbara Pang' 'John Davisson'\n",
            " 'Bryan Chase' 'Jonathan Zingaro' 'Adeline Roberts' 'Tara Lyons'\n",
            " 'William Williamson' 'Kathleen Bambacigno' 'Mae Hill' 'Peter Dellinger'\n",
            " 'Cynthia Anaya' 'Sylvia Thigpen' 'John Gerrald' 'Jose Bond'\n",
            " 'Russell Collyer' 'William Nelson' 'Thomas Barton' 'Angelo Houck'\n",
            " 'Ricky Hood' 'Joan Takemura' 'Stephen Burritt' 'Virginia Hamby'\n",
            " 'Joseph Buckner' 'Glenn Bumbrey' 'Nicole Meeks' 'Trista Cheek'\n",
            " 'Constance Rozier' 'Elizabeth Bannister' 'Susan Weber']\n",
            "====================================\n",
            "Experience : [ 2  9 15 18 22  7  3 11  8  6 16 21 24 19  4 13 14 17 12 10 23  5 20]\n",
            "====================================\n",
            "Total_projects : [ 2 13 16 19 15  4  5  8 17  6 26 21 23 27  9 24 14  7 22  3 28 12 18 10\n",
            " 11 20 29 25]\n",
            "====================================\n",
            "Rating : [1.         1.44444444 1.06666667 1.05555556 0.68181818 1.85714286\n",
            " 1.33333333 2.5        2.66666667 2.42857143 2.         0.72727273\n",
            " 0.75       0.4        1.1875     1.04545455 1.125      1.66666667\n",
            " 3.16666667 0.86666667 1.36842105 2.25       0.54545455 1.26315789\n",
            " 0.63636364 1.15789474 0.46153846 2.33333333 1.5        1.64705882\n",
            " 0.57142857 0.92307692 1.38461538 0.5        0.35714286 0.71428571\n",
            " 1.375      1.9        1.45454545 1.05882353 1.8        1.09090909\n",
            " 0.82608696 1.2        1.1        0.42857143 1.17391304 0.875\n",
            " 0.78947368 1.13043478 1.25       1.28571429 3.         1.52941176\n",
            " 1.41176471 0.6        1.47368421 0.85714286 0.95454545 0.94117647\n",
            " 0.81818182 1.14285714 0.70833333 1.46153846 1.52631579 1.35294118\n",
            " 0.84210526 0.8        1.21052632 1.23076923 1.13333333 0.94736842\n",
            " 2.28571429 2.57142857 0.94444444 0.66666667 2.16666667 0.64285714\n",
            " 0.9375     0.95       1.22222222 1.47058824 4.         3.5\n",
            " 0.53333333 1.16666667 1.4        1.61111111 0.83333333 0.95652174\n",
            " 0.7826087  1.4375     1.18181818 2.375      1.2173913  0.86956522\n",
            " 1.26666667 2.83333333 1.75       1.72727273 1.42857143 2.125\n",
            " 1.71428571 0.46666667 1.30769231 1.6        1.27777778 0.69230769\n",
            " 1.58333333 4.5        1.15       0.78571429 1.70588235 0.625\n",
            " 0.61538462 1.15384615 0.73913043 1.31578947 1.7        1.20833333\n",
            " 1.10526316 1.08695652 0.95238095 0.80952381 1.19047619 0.77777778\n",
            " 0.65217391 0.90909091 1.38888889 1.04166667 1.0952381  2.14285714\n",
            " 1.83333333 1.3        1.27272727 1.05       1.07142857 1.42105263\n",
            " 0.86363636 1.17647059 1.29411765 1.21428571 1.55555556 1.36363636\n",
            " 1.45       1.3125     0.88888889 0.69565217 1.41666667 1.6875\n",
            " 0.76923077 0.41666667 1.57142857 1.05263158 1.58823529 1.625\n",
            " 0.38461538 1.35714286 0.89473684 0.53846154 0.7        2.71428571\n",
            " 0.55555556 1.07692308 0.9        0.45454545 1.08333333 0.88235294\n",
            " 1.23529412 1.11111111 0.85       0.95833333 1.63636364 2.11111111\n",
            " 1.88888889 1.26086957 0.92857143 1.875      0.91304348 1.13636364\n",
            " 0.76190476 0.91666667 1.35       1.23809524 1.5625     1.04347826\n",
            " 0.77272727 1.04761905 1.0625     0.93333333 1.54545455 1.38095238\n",
            " 1.31818182 0.58333333 1.77777778 1.22727273 1.11764706]\n",
            "====================================\n",
            "Area_of_Interest_1 : ['DotNet' 'ML' 'Mobile' 'AI' 'JS' 'Java']\n",
            "====================================\n",
            "Area_of_Interest_2 : ['JS' 'AI' 'ML' 'Java' 'Mobile' 'DotNet']\n",
            "====================================\n",
            "Area_of_Interest_3 : ['AI' 'JS' 'Java' 'Mobile' 'ML' 'DotNet']\n",
            "====================================\n",
            "Language1 : ['English']\n",
            "====================================\n",
            "Language2 : ['Hindi' 'Kannada' 'Chinese' 'Malayalam' 'Tamil' 'Japenese' 'Telugu']\n",
            "====================================\n",
            "Language3 : ['Tamil' 'Malayalam' 'Chinese' 'Telugu' 'Hindi' 'Kannada' 'Japenese']\n",
            "====================================\n",
            "AI_project_count : [ 0  4  3  2  1  6  9  8  5  7 10 11]\n",
            "====================================\n",
            "ML_project_count : [ 1  3  4  5  0  2  7  8  6  9 10]\n",
            "====================================\n",
            "JS_project_count : [ 1  0  2  3  4  5  6  8  7  9 10 11]\n",
            "====================================\n",
            "Java_project_count : [ 0  2  3  1  7  4  5  6 10  8  9 12]\n",
            "====================================\n",
            "DotNet_project_count : [0 3 5 1 2 4 6 7 8 9]\n",
            "====================================\n",
            "Mobile_project_count : [ 0  1  3  2  5  4  7  6  8 11  9]\n",
            "====================================\n"
          ]
        }
      ],
      "source": [
        "#We'll identify the unique values in the dataset\n",
        "for column in df_emp.columns:\n",
        "    print(f\"{column} : {df_emp[column].unique()}\")\n",
        "    print(\"====================================\")\n",
        "#No null values or anomalies in this dataset too    "
      ]
    },
    {
      "cell_type": "code",
      "source": [
        "#To identify the number of unique values\n",
        "for column in df_emp.columns:\n",
        "    print(f\"{column}: Number of unique values {df_emp[column].nunique()}\")\n",
        "    print(\"==========================================================\")"
      ],
      "metadata": {
        "colab": {
          "base_uri": "https://localhost:8080/"
        },
        "id": "2XmFvTDyuYQ1",
        "outputId": "cda9ea8a-0dd4-4219-b9f0-3bd31f908711"
      },
      "execution_count": null,
      "outputs": [
        {
          "output_type": "stream",
          "name": "stdout",
          "text": [
            "Eid: Number of unique values 1000\n",
            "==========================================================\n",
            "Ename: Number of unique values 1000\n",
            "==========================================================\n",
            "Experience: Number of unique values 23\n",
            "==========================================================\n",
            "Total_projects: Number of unique values 28\n",
            "==========================================================\n",
            "Rating: Number of unique values 197\n",
            "==========================================================\n",
            "Area_of_Interest_1: Number of unique values 6\n",
            "==========================================================\n",
            "Area_of_Interest_2: Number of unique values 6\n",
            "==========================================================\n",
            "Area_of_Interest_3: Number of unique values 6\n",
            "==========================================================\n",
            "Language1: Number of unique values 1\n",
            "==========================================================\n",
            "Language2: Number of unique values 7\n",
            "==========================================================\n",
            "Language3: Number of unique values 7\n",
            "==========================================================\n",
            "AI_project_count: Number of unique values 12\n",
            "==========================================================\n",
            "ML_project_count: Number of unique values 11\n",
            "==========================================================\n",
            "JS_project_count: Number of unique values 12\n",
            "==========================================================\n",
            "Java_project_count: Number of unique values 12\n",
            "==========================================================\n",
            "DotNet_project_count: Number of unique values 10\n",
            "==========================================================\n",
            "Mobile_project_count: Number of unique values 11\n",
            "==========================================================\n"
          ]
        }
      ]
    },
    {
      "cell_type": "code",
      "execution_count": null,
      "metadata": {
        "id": "0Jh8kG2IgHhe",
        "colab": {
          "base_uri": "https://localhost:8080/"
        },
        "outputId": "17676a99-ae3d-455f-90ba-e1a398b36bcb"
      },
      "outputs": [
        {
          "output_type": "execute_result",
          "data": {
            "text/plain": [
              "Eid                       int64\n",
              "Ename                    object\n",
              "Experience                int64\n",
              "Total_projects            int64\n",
              "Rating                  float64\n",
              "Area_of_Interest_1       object\n",
              "Area_of_Interest_2       object\n",
              "Area_of_Interest_3       object\n",
              "Language1                object\n",
              "Language2                object\n",
              "Language3                object\n",
              "AI_project_count          int64\n",
              "ML_project_count          int64\n",
              "JS_project_count          int64\n",
              "Java_project_count        int64\n",
              "DotNet_project_count      int64\n",
              "Mobile_project_count      int64\n",
              "dtype: object"
            ]
          },
          "metadata": {},
          "execution_count": 14
        }
      ],
      "source": [
        "df_emp.dtypes"
      ]
    },
    {
      "cell_type": "markdown",
      "source": [
        "Now we'll read in Project_details.xlsx:"
      ],
      "metadata": {
        "id": "3yeDbeAYsM4M"
      }
    },
    {
      "cell_type": "code",
      "source": [
        "import xlrd\n",
        "df_proj = pd.read_excel(\"/Project_details.xlsx\", engine='openpyxl')"
      ],
      "metadata": {
        "id": "GB0gwT9hs0ja"
      },
      "execution_count": null,
      "outputs": []
    },
    {
      "cell_type": "code",
      "execution_count": null,
      "metadata": {
        "colab": {
          "base_uri": "https://localhost:8080/",
          "height": 206
        },
        "id": "51a4zvQu0MzO",
        "outputId": "64d51663-0ac5-4987-e745-eb6e708fa835"
      },
      "outputs": [
        {
          "output_type": "execute_result",
          "data": {
            "text/plain": [
              "                            Project Name Client Name     Domain Name\n",
              "0                        Web application         XYZ      JS Project\n",
              "1  AI based application for web tracking         TCS      ML Project\n",
              "2                         Covid Tracking        HITS      AI Project\n",
              "3                     Mobile application         NGO  Mobile Project\n",
              "4                                 DotNet        HSBC  DotNet Project"
            ],
            "text/html": [
              "\n",
              "  <div id=\"df-086796bc-4ecd-464e-bb48-8ce346451175\">\n",
              "    <div class=\"colab-df-container\">\n",
              "      <div>\n",
              "<style scoped>\n",
              "    .dataframe tbody tr th:only-of-type {\n",
              "        vertical-align: middle;\n",
              "    }\n",
              "\n",
              "    .dataframe tbody tr th {\n",
              "        vertical-align: top;\n",
              "    }\n",
              "\n",
              "    .dataframe thead th {\n",
              "        text-align: right;\n",
              "    }\n",
              "</style>\n",
              "<table border=\"1\" class=\"dataframe\">\n",
              "  <thead>\n",
              "    <tr style=\"text-align: right;\">\n",
              "      <th></th>\n",
              "      <th>Project Name</th>\n",
              "      <th>Client Name</th>\n",
              "      <th>Domain Name</th>\n",
              "    </tr>\n",
              "  </thead>\n",
              "  <tbody>\n",
              "    <tr>\n",
              "      <th>0</th>\n",
              "      <td>Web application</td>\n",
              "      <td>XYZ</td>\n",
              "      <td>JS Project</td>\n",
              "    </tr>\n",
              "    <tr>\n",
              "      <th>1</th>\n",
              "      <td>AI based application for web tracking</td>\n",
              "      <td>TCS</td>\n",
              "      <td>ML Project</td>\n",
              "    </tr>\n",
              "    <tr>\n",
              "      <th>2</th>\n",
              "      <td>Covid Tracking</td>\n",
              "      <td>HITS</td>\n",
              "      <td>AI Project</td>\n",
              "    </tr>\n",
              "    <tr>\n",
              "      <th>3</th>\n",
              "      <td>Mobile application</td>\n",
              "      <td>NGO</td>\n",
              "      <td>Mobile Project</td>\n",
              "    </tr>\n",
              "    <tr>\n",
              "      <th>4</th>\n",
              "      <td>DotNet</td>\n",
              "      <td>HSBC</td>\n",
              "      <td>DotNet Project</td>\n",
              "    </tr>\n",
              "  </tbody>\n",
              "</table>\n",
              "</div>\n",
              "      <button class=\"colab-df-convert\" onclick=\"convertToInteractive('df-086796bc-4ecd-464e-bb48-8ce346451175')\"\n",
              "              title=\"Convert this dataframe to an interactive table.\"\n",
              "              style=\"display:none;\">\n",
              "        \n",
              "  <svg xmlns=\"http://www.w3.org/2000/svg\" height=\"24px\"viewBox=\"0 0 24 24\"\n",
              "       width=\"24px\">\n",
              "    <path d=\"M0 0h24v24H0V0z\" fill=\"none\"/>\n",
              "    <path d=\"M18.56 5.44l.94 2.06.94-2.06 2.06-.94-2.06-.94-.94-2.06-.94 2.06-2.06.94zm-11 1L8.5 8.5l.94-2.06 2.06-.94-2.06-.94L8.5 2.5l-.94 2.06-2.06.94zm10 10l.94 2.06.94-2.06 2.06-.94-2.06-.94-.94-2.06-.94 2.06-2.06.94z\"/><path d=\"M17.41 7.96l-1.37-1.37c-.4-.4-.92-.59-1.43-.59-.52 0-1.04.2-1.43.59L10.3 9.45l-7.72 7.72c-.78.78-.78 2.05 0 2.83L4 21.41c.39.39.9.59 1.41.59.51 0 1.02-.2 1.41-.59l7.78-7.78 2.81-2.81c.8-.78.8-2.07 0-2.86zM5.41 20L4 18.59l7.72-7.72 1.47 1.35L5.41 20z\"/>\n",
              "  </svg>\n",
              "      </button>\n",
              "      \n",
              "  <style>\n",
              "    .colab-df-container {\n",
              "      display:flex;\n",
              "      flex-wrap:wrap;\n",
              "      gap: 12px;\n",
              "    }\n",
              "\n",
              "    .colab-df-convert {\n",
              "      background-color: #E8F0FE;\n",
              "      border: none;\n",
              "      border-radius: 50%;\n",
              "      cursor: pointer;\n",
              "      display: none;\n",
              "      fill: #1967D2;\n",
              "      height: 32px;\n",
              "      padding: 0 0 0 0;\n",
              "      width: 32px;\n",
              "    }\n",
              "\n",
              "    .colab-df-convert:hover {\n",
              "      background-color: #E2EBFA;\n",
              "      box-shadow: 0px 1px 2px rgba(60, 64, 67, 0.3), 0px 1px 3px 1px rgba(60, 64, 67, 0.15);\n",
              "      fill: #174EA6;\n",
              "    }\n",
              "\n",
              "    [theme=dark] .colab-df-convert {\n",
              "      background-color: #3B4455;\n",
              "      fill: #D2E3FC;\n",
              "    }\n",
              "\n",
              "    [theme=dark] .colab-df-convert:hover {\n",
              "      background-color: #434B5C;\n",
              "      box-shadow: 0px 1px 3px 1px rgba(0, 0, 0, 0.15);\n",
              "      filter: drop-shadow(0px 1px 2px rgba(0, 0, 0, 0.3));\n",
              "      fill: #FFFFFF;\n",
              "    }\n",
              "  </style>\n",
              "\n",
              "      <script>\n",
              "        const buttonEl =\n",
              "          document.querySelector('#df-086796bc-4ecd-464e-bb48-8ce346451175 button.colab-df-convert');\n",
              "        buttonEl.style.display =\n",
              "          google.colab.kernel.accessAllowed ? 'block' : 'none';\n",
              "\n",
              "        async function convertToInteractive(key) {\n",
              "          const element = document.querySelector('#df-086796bc-4ecd-464e-bb48-8ce346451175');\n",
              "          const dataTable =\n",
              "            await google.colab.kernel.invokeFunction('convertToInteractive',\n",
              "                                                     [key], {});\n",
              "          if (!dataTable) return;\n",
              "\n",
              "          const docLinkHtml = 'Like what you see? Visit the ' +\n",
              "            '<a target=\"_blank\" href=https://colab.research.google.com/notebooks/data_table.ipynb>data table notebook</a>'\n",
              "            + ' to learn more about interactive tables.';\n",
              "          element.innerHTML = '';\n",
              "          dataTable['output_type'] = 'display_data';\n",
              "          await google.colab.output.renderOutput(dataTable, element);\n",
              "          const docLink = document.createElement('div');\n",
              "          docLink.innerHTML = docLinkHtml;\n",
              "          element.appendChild(docLink);\n",
              "        }\n",
              "      </script>\n",
              "    </div>\n",
              "  </div>\n",
              "  "
            ]
          },
          "metadata": {},
          "execution_count": 75
        }
      ],
      "source": [
        "df_proj.head()\n",
        "#We won't need to identify the unique variables anyways.\n",
        "#Note: We added more data in this dataset to include more Domain Names to utilize all skills in df_skills"
      ]
    },
    {
      "cell_type": "code",
      "source": [
        "#We'll create these columns in df_proj and set them with 0s representing any skill a project could require\n",
        "df_proj[['Python', 'Machine Learning', 'Deep Learning', 'Data Analysis',\n",
        "         'Asp.Net', 'Ado.Net', 'VB.Net', 'C#', 'Java', 'Spring Boot',\n",
        "         'Hibernate', 'NLP', 'CV', 'JS', 'React', 'Node', 'Angular', 'Dart',\n",
        "         'Flutter', 'Vb.Net']] = 0"
      ],
      "metadata": {
        "id": "XdAEipL4v_qI"
      },
      "execution_count": null,
      "outputs": []
    },
    {
      "cell_type": "code",
      "execution_count": null,
      "metadata": {
        "id": "Zdq9Fkn3NyNE"
      },
      "outputs": [],
      "source": [
        "#We then created a loop code that iterates through each row in the df_proj to set the appropriate skills column value with 1 indicating it requires that skill\n",
        "for i in range(len(df_proj)):\n",
        "      if df_proj.loc[i, 'Domain Name'] == 'AI Project':\n",
        "          df_proj.loc[i, ['Python', 'Machine Learning', 'Deep Learning', 'NLP', 'CV']] = 1\n",
        "      elif df_proj.loc[i, 'Domain Name'] == 'ML Project':\n",
        "          df_proj.loc[i, ['Python', 'Machine Learning', 'Deep Learning', 'Data Analysis', 'NLP', 'CV']] = 1\n",
        "      elif df_proj.loc[i, 'Domain Name'] == 'DotNet Project':\n",
        "          df_proj.loc[i, ['Asp.Net', 'Ado.Net', 'VB.Net', 'C#']] = 1\n",
        "      elif df_proj.loc[i, 'Domain Name'] == 'Java Project':\n",
        "          df_proj.loc[i, ['Java', 'Spring Boot', 'Hibernate']] = 1\n",
        "      elif df_proj.loc[i, 'Domain Name'] == 'JS Project':\n",
        "          df_proj.loc[i, ['JS', 'React', 'Node', 'Angular']] = 1\n",
        "      elif df_proj.loc[i, 'Domain Name'] == 'Mobile Project':\n",
        "          df_proj.loc[i, ['Dart', 'Flutter', 'React']] = 1\n",
        "#We researched on which skills from df_skills that are utilized in each domain and this was what we reached.          "
      ]
    },
    {
      "cell_type": "code",
      "source": [
        "#Here we defined a dictionary that maps the type of a project to the skills required\n",
        "domain_skills = { 'AI Project': ['Python', 'Machine Learning', 'Deep Learning', 'NLP', 'CV'],\n",
        "                  'ML Project': ['Python', 'Machine Learning', 'Deep Learning','Data Analysis'],\n",
        "                  'JS Project': ['JS', 'React', 'Node', 'Angular'],\n",
        "                  'Java Project': ['Java', 'Spring Boot', 'Hibernate'], \n",
        "                  'DotNet Project': ['Asp.Net', 'Ado.Net', 'VB.Net', 'C#', 'Vb.Net'], \n",
        "                  'Mobile Project': ['Dart', 'Flutter'] }"
      ],
      "metadata": {
        "id": "sTh6CQqywm8n"
      },
      "execution_count": null,
      "outputs": []
    },
    {
      "cell_type": "code",
      "execution_count": null,
      "metadata": {
        "id": "OvktnVG-o3VE"
      },
      "outputs": [],
      "source": [
        "#Now we'll define a function that takes as input a domain name and returns the required skills for the domain using the dictionary\n",
        "def get_required_skills(domain_name):\n",
        "    return domain_skills[domain_name]"
      ]
    },
    {
      "cell_type": "code",
      "execution_count": null,
      "metadata": {
        "id": "E1zwWchq6iys"
      },
      "outputs": [],
      "source": [
        "#Here we'll define the target project that the recommendations will be based on\n",
        "target_project = 'Java Project'\n",
        "\n",
        "#We used get_required skills function to create an array of the required skills for that project \n",
        "required_skills = get_required_skills(target_project)"
      ]
    },
    {
      "cell_type": "code",
      "source": [
        "required_skills"
      ],
      "metadata": {
        "colab": {
          "base_uri": "https://localhost:8080/"
        },
        "id": "l0GU2zvzqItY",
        "outputId": "7276702b-865e-4a0c-83ea-52785834e7b1"
      },
      "execution_count": null,
      "outputs": [
        {
          "output_type": "execute_result",
          "data": {
            "text/plain": [
              "['Java', 'Spring Boot', 'Hibernate']"
            ]
          },
          "metadata": {},
          "execution_count": 12
        }
      ]
    },
    {
      "cell_type": "markdown",
      "metadata": {
        "id": "CBtB779x5rD0"
      },
      "source": [
        "Collaborative Filtering Model:"
      ]
    },
    {
      "cell_type": "code",
      "execution_count": null,
      "metadata": {
        "id": "9ItC7HxM5wG-"
      },
      "outputs": [],
      "source": [
        "#We added Experience and Rating of each employee as its useful for recommendations\n",
        "df_skills = df_skills.merge(df_emp[['Eid', 'Experience', 'Rating']], on='Eid', how='left')"
      ]
    },
    {
      "cell_type": "markdown",
      "source": [
        "Now **df_skills** contains Eid, all skills columns, Experience and Rating; all numerical and considered rating for the column it represents."
      ],
      "metadata": {
        "id": "B9bzbeTziiWj"
      }
    },
    {
      "cell_type": "code",
      "execution_count": null,
      "metadata": {
        "id": "6PDODCWXRrTb"
      },
      "outputs": [],
      "source": [
        "#Creating user-item matrix for Collaborative Filtering\n",
        "df_user_item = pd.pivot_table(df_skills, index='Eid')"
      ]
    },
    {
      "cell_type": "markdown",
      "source": [
        "The columns in this user-item matrix correspond to different skills and each employee's experience/rating so that we could quantitatively analyze and compare the skill levels of employees."
      ],
      "metadata": {
        "id": "BHfaxrv5vErg"
      }
    },
    {
      "cell_type": "code",
      "source": [
        "df_user_item"
      ],
      "metadata": {
        "colab": {
          "base_uri": "https://localhost:8080/",
          "height": 536
        },
        "id": "BlJMjv_cq9KR",
        "outputId": "36d2c18c-341c-4faa-ddc8-2b3efe2926a7"
      },
      "execution_count": null,
      "outputs": [
        {
          "output_type": "execute_result",
          "data": {
            "text/plain": [
              "      Ado.Net  Angular  Asp.Net  C#  CV  Dart  Data Analysis  Deep Learning  \\\n",
              "Eid                                                                           \n",
              "1           1        3        1   1   1     0              1              1   \n",
              "2           4        1        4   4   3     1              1              1   \n",
              "3           1        3        1   1   1     1              4              4   \n",
              "4           4        1        4   4   1     2              3              3   \n",
              "5           1        2        1   1   1     4              1              1   \n",
              "...       ...      ...      ...  ..  ..   ...            ...            ...   \n",
              "996         1        1        1   1   2     3              1              1   \n",
              "997         2        1        2   2   1     1              1              1   \n",
              "998         0        1        0   1   4     1              3              3   \n",
              "999         1        4        1   1   1     1              3              3   \n",
              "1000        1        2        1   1   3     1              1              1   \n",
              "\n",
              "      Experience  Flutter  ...  Java  Machine Learning  NLP  Node  Python  \\\n",
              "Eid                        ...                                              \n",
              "1              2        0  ...     1                 1    1     3       1   \n",
              "2              9        1  ...     1                 1    3     1       1   \n",
              "3             15        1  ...     2                 4    1     3       4   \n",
              "4             18        2  ...     1                 3    1     1       3   \n",
              "5             22        4  ...     3                 1    1     2       1   \n",
              "...          ...      ...  ...   ...               ...  ...   ...     ...   \n",
              "996           24        3  ...     4                 1    2     1       1   \n",
              "997            3        1  ...     1                 1    1     1       1   \n",
              "998           14        1  ...     1                 3    4     1       3   \n",
              "999           11        1  ...     1                 3    1     4       3   \n",
              "1000          11        1  ...     1                 1    3     2       1   \n",
              "\n",
              "        Rating  React  Spring Boot  VB.Net  Vb.Net  \n",
              "Eid                                                 \n",
              "1     1.000000      3            0       0       1  \n",
              "2     1.444444      1            1       0       4  \n",
              "3     1.066667      3            2       0       1  \n",
              "4     1.055556      1            1       0       4  \n",
              "5     0.681818      2            3       0       1  \n",
              "...        ...    ...          ...     ...     ...  \n",
              "996   1.125000      1            4       0       1  \n",
              "997   2.000000      1            1       0       2  \n",
              "998   0.357143      1            1       0       0  \n",
              "999   0.818182      4            1       0       1  \n",
              "1000  1.181818      2            1       0       1  \n",
              "\n",
              "[1000 rows x 22 columns]"
            ],
            "text/html": [
              "\n",
              "  <div id=\"df-216594ce-183a-4f7c-829b-518cc2217726\">\n",
              "    <div class=\"colab-df-container\">\n",
              "      <div>\n",
              "<style scoped>\n",
              "    .dataframe tbody tr th:only-of-type {\n",
              "        vertical-align: middle;\n",
              "    }\n",
              "\n",
              "    .dataframe tbody tr th {\n",
              "        vertical-align: top;\n",
              "    }\n",
              "\n",
              "    .dataframe thead th {\n",
              "        text-align: right;\n",
              "    }\n",
              "</style>\n",
              "<table border=\"1\" class=\"dataframe\">\n",
              "  <thead>\n",
              "    <tr style=\"text-align: right;\">\n",
              "      <th></th>\n",
              "      <th>Ado.Net</th>\n",
              "      <th>Angular</th>\n",
              "      <th>Asp.Net</th>\n",
              "      <th>C#</th>\n",
              "      <th>CV</th>\n",
              "      <th>Dart</th>\n",
              "      <th>Data Analysis</th>\n",
              "      <th>Deep Learning</th>\n",
              "      <th>Experience</th>\n",
              "      <th>Flutter</th>\n",
              "      <th>...</th>\n",
              "      <th>Java</th>\n",
              "      <th>Machine Learning</th>\n",
              "      <th>NLP</th>\n",
              "      <th>Node</th>\n",
              "      <th>Python</th>\n",
              "      <th>Rating</th>\n",
              "      <th>React</th>\n",
              "      <th>Spring Boot</th>\n",
              "      <th>VB.Net</th>\n",
              "      <th>Vb.Net</th>\n",
              "    </tr>\n",
              "    <tr>\n",
              "      <th>Eid</th>\n",
              "      <th></th>\n",
              "      <th></th>\n",
              "      <th></th>\n",
              "      <th></th>\n",
              "      <th></th>\n",
              "      <th></th>\n",
              "      <th></th>\n",
              "      <th></th>\n",
              "      <th></th>\n",
              "      <th></th>\n",
              "      <th></th>\n",
              "      <th></th>\n",
              "      <th></th>\n",
              "      <th></th>\n",
              "      <th></th>\n",
              "      <th></th>\n",
              "      <th></th>\n",
              "      <th></th>\n",
              "      <th></th>\n",
              "      <th></th>\n",
              "      <th></th>\n",
              "    </tr>\n",
              "  </thead>\n",
              "  <tbody>\n",
              "    <tr>\n",
              "      <th>1</th>\n",
              "      <td>1</td>\n",
              "      <td>3</td>\n",
              "      <td>1</td>\n",
              "      <td>1</td>\n",
              "      <td>1</td>\n",
              "      <td>0</td>\n",
              "      <td>1</td>\n",
              "      <td>1</td>\n",
              "      <td>2</td>\n",
              "      <td>0</td>\n",
              "      <td>...</td>\n",
              "      <td>1</td>\n",
              "      <td>1</td>\n",
              "      <td>1</td>\n",
              "      <td>3</td>\n",
              "      <td>1</td>\n",
              "      <td>1.000000</td>\n",
              "      <td>3</td>\n",
              "      <td>0</td>\n",
              "      <td>0</td>\n",
              "      <td>1</td>\n",
              "    </tr>\n",
              "    <tr>\n",
              "      <th>2</th>\n",
              "      <td>4</td>\n",
              "      <td>1</td>\n",
              "      <td>4</td>\n",
              "      <td>4</td>\n",
              "      <td>3</td>\n",
              "      <td>1</td>\n",
              "      <td>1</td>\n",
              "      <td>1</td>\n",
              "      <td>9</td>\n",
              "      <td>1</td>\n",
              "      <td>...</td>\n",
              "      <td>1</td>\n",
              "      <td>1</td>\n",
              "      <td>3</td>\n",
              "      <td>1</td>\n",
              "      <td>1</td>\n",
              "      <td>1.444444</td>\n",
              "      <td>1</td>\n",
              "      <td>1</td>\n",
              "      <td>0</td>\n",
              "      <td>4</td>\n",
              "    </tr>\n",
              "    <tr>\n",
              "      <th>3</th>\n",
              "      <td>1</td>\n",
              "      <td>3</td>\n",
              "      <td>1</td>\n",
              "      <td>1</td>\n",
              "      <td>1</td>\n",
              "      <td>1</td>\n",
              "      <td>4</td>\n",
              "      <td>4</td>\n",
              "      <td>15</td>\n",
              "      <td>1</td>\n",
              "      <td>...</td>\n",
              "      <td>2</td>\n",
              "      <td>4</td>\n",
              "      <td>1</td>\n",
              "      <td>3</td>\n",
              "      <td>4</td>\n",
              "      <td>1.066667</td>\n",
              "      <td>3</td>\n",
              "      <td>2</td>\n",
              "      <td>0</td>\n",
              "      <td>1</td>\n",
              "    </tr>\n",
              "    <tr>\n",
              "      <th>4</th>\n",
              "      <td>4</td>\n",
              "      <td>1</td>\n",
              "      <td>4</td>\n",
              "      <td>4</td>\n",
              "      <td>1</td>\n",
              "      <td>2</td>\n",
              "      <td>3</td>\n",
              "      <td>3</td>\n",
              "      <td>18</td>\n",
              "      <td>2</td>\n",
              "      <td>...</td>\n",
              "      <td>1</td>\n",
              "      <td>3</td>\n",
              "      <td>1</td>\n",
              "      <td>1</td>\n",
              "      <td>3</td>\n",
              "      <td>1.055556</td>\n",
              "      <td>1</td>\n",
              "      <td>1</td>\n",
              "      <td>0</td>\n",
              "      <td>4</td>\n",
              "    </tr>\n",
              "    <tr>\n",
              "      <th>5</th>\n",
              "      <td>1</td>\n",
              "      <td>2</td>\n",
              "      <td>1</td>\n",
              "      <td>1</td>\n",
              "      <td>1</td>\n",
              "      <td>4</td>\n",
              "      <td>1</td>\n",
              "      <td>1</td>\n",
              "      <td>22</td>\n",
              "      <td>4</td>\n",
              "      <td>...</td>\n",
              "      <td>3</td>\n",
              "      <td>1</td>\n",
              "      <td>1</td>\n",
              "      <td>2</td>\n",
              "      <td>1</td>\n",
              "      <td>0.681818</td>\n",
              "      <td>2</td>\n",
              "      <td>3</td>\n",
              "      <td>0</td>\n",
              "      <td>1</td>\n",
              "    </tr>\n",
              "    <tr>\n",
              "      <th>...</th>\n",
              "      <td>...</td>\n",
              "      <td>...</td>\n",
              "      <td>...</td>\n",
              "      <td>...</td>\n",
              "      <td>...</td>\n",
              "      <td>...</td>\n",
              "      <td>...</td>\n",
              "      <td>...</td>\n",
              "      <td>...</td>\n",
              "      <td>...</td>\n",
              "      <td>...</td>\n",
              "      <td>...</td>\n",
              "      <td>...</td>\n",
              "      <td>...</td>\n",
              "      <td>...</td>\n",
              "      <td>...</td>\n",
              "      <td>...</td>\n",
              "      <td>...</td>\n",
              "      <td>...</td>\n",
              "      <td>...</td>\n",
              "      <td>...</td>\n",
              "    </tr>\n",
              "    <tr>\n",
              "      <th>996</th>\n",
              "      <td>1</td>\n",
              "      <td>1</td>\n",
              "      <td>1</td>\n",
              "      <td>1</td>\n",
              "      <td>2</td>\n",
              "      <td>3</td>\n",
              "      <td>1</td>\n",
              "      <td>1</td>\n",
              "      <td>24</td>\n",
              "      <td>3</td>\n",
              "      <td>...</td>\n",
              "      <td>4</td>\n",
              "      <td>1</td>\n",
              "      <td>2</td>\n",
              "      <td>1</td>\n",
              "      <td>1</td>\n",
              "      <td>1.125000</td>\n",
              "      <td>1</td>\n",
              "      <td>4</td>\n",
              "      <td>0</td>\n",
              "      <td>1</td>\n",
              "    </tr>\n",
              "    <tr>\n",
              "      <th>997</th>\n",
              "      <td>2</td>\n",
              "      <td>1</td>\n",
              "      <td>2</td>\n",
              "      <td>2</td>\n",
              "      <td>1</td>\n",
              "      <td>1</td>\n",
              "      <td>1</td>\n",
              "      <td>1</td>\n",
              "      <td>3</td>\n",
              "      <td>1</td>\n",
              "      <td>...</td>\n",
              "      <td>1</td>\n",
              "      <td>1</td>\n",
              "      <td>1</td>\n",
              "      <td>1</td>\n",
              "      <td>1</td>\n",
              "      <td>2.000000</td>\n",
              "      <td>1</td>\n",
              "      <td>1</td>\n",
              "      <td>0</td>\n",
              "      <td>2</td>\n",
              "    </tr>\n",
              "    <tr>\n",
              "      <th>998</th>\n",
              "      <td>0</td>\n",
              "      <td>1</td>\n",
              "      <td>0</td>\n",
              "      <td>1</td>\n",
              "      <td>4</td>\n",
              "      <td>1</td>\n",
              "      <td>3</td>\n",
              "      <td>3</td>\n",
              "      <td>14</td>\n",
              "      <td>1</td>\n",
              "      <td>...</td>\n",
              "      <td>1</td>\n",
              "      <td>3</td>\n",
              "      <td>4</td>\n",
              "      <td>1</td>\n",
              "      <td>3</td>\n",
              "      <td>0.357143</td>\n",
              "      <td>1</td>\n",
              "      <td>1</td>\n",
              "      <td>0</td>\n",
              "      <td>0</td>\n",
              "    </tr>\n",
              "    <tr>\n",
              "      <th>999</th>\n",
              "      <td>1</td>\n",
              "      <td>4</td>\n",
              "      <td>1</td>\n",
              "      <td>1</td>\n",
              "      <td>1</td>\n",
              "      <td>1</td>\n",
              "      <td>3</td>\n",
              "      <td>3</td>\n",
              "      <td>11</td>\n",
              "      <td>1</td>\n",
              "      <td>...</td>\n",
              "      <td>1</td>\n",
              "      <td>3</td>\n",
              "      <td>1</td>\n",
              "      <td>4</td>\n",
              "      <td>3</td>\n",
              "      <td>0.818182</td>\n",
              "      <td>4</td>\n",
              "      <td>1</td>\n",
              "      <td>0</td>\n",
              "      <td>1</td>\n",
              "    </tr>\n",
              "    <tr>\n",
              "      <th>1000</th>\n",
              "      <td>1</td>\n",
              "      <td>2</td>\n",
              "      <td>1</td>\n",
              "      <td>1</td>\n",
              "      <td>3</td>\n",
              "      <td>1</td>\n",
              "      <td>1</td>\n",
              "      <td>1</td>\n",
              "      <td>11</td>\n",
              "      <td>1</td>\n",
              "      <td>...</td>\n",
              "      <td>1</td>\n",
              "      <td>1</td>\n",
              "      <td>3</td>\n",
              "      <td>2</td>\n",
              "      <td>1</td>\n",
              "      <td>1.181818</td>\n",
              "      <td>2</td>\n",
              "      <td>1</td>\n",
              "      <td>0</td>\n",
              "      <td>1</td>\n",
              "    </tr>\n",
              "  </tbody>\n",
              "</table>\n",
              "<p>1000 rows × 22 columns</p>\n",
              "</div>\n",
              "      <button class=\"colab-df-convert\" onclick=\"convertToInteractive('df-216594ce-183a-4f7c-829b-518cc2217726')\"\n",
              "              title=\"Convert this dataframe to an interactive table.\"\n",
              "              style=\"display:none;\">\n",
              "        \n",
              "  <svg xmlns=\"http://www.w3.org/2000/svg\" height=\"24px\"viewBox=\"0 0 24 24\"\n",
              "       width=\"24px\">\n",
              "    <path d=\"M0 0h24v24H0V0z\" fill=\"none\"/>\n",
              "    <path d=\"M18.56 5.44l.94 2.06.94-2.06 2.06-.94-2.06-.94-.94-2.06-.94 2.06-2.06.94zm-11 1L8.5 8.5l.94-2.06 2.06-.94-2.06-.94L8.5 2.5l-.94 2.06-2.06.94zm10 10l.94 2.06.94-2.06 2.06-.94-2.06-.94-.94-2.06-.94 2.06-2.06.94z\"/><path d=\"M17.41 7.96l-1.37-1.37c-.4-.4-.92-.59-1.43-.59-.52 0-1.04.2-1.43.59L10.3 9.45l-7.72 7.72c-.78.78-.78 2.05 0 2.83L4 21.41c.39.39.9.59 1.41.59.51 0 1.02-.2 1.41-.59l7.78-7.78 2.81-2.81c.8-.78.8-2.07 0-2.86zM5.41 20L4 18.59l7.72-7.72 1.47 1.35L5.41 20z\"/>\n",
              "  </svg>\n",
              "      </button>\n",
              "      \n",
              "  <style>\n",
              "    .colab-df-container {\n",
              "      display:flex;\n",
              "      flex-wrap:wrap;\n",
              "      gap: 12px;\n",
              "    }\n",
              "\n",
              "    .colab-df-convert {\n",
              "      background-color: #E8F0FE;\n",
              "      border: none;\n",
              "      border-radius: 50%;\n",
              "      cursor: pointer;\n",
              "      display: none;\n",
              "      fill: #1967D2;\n",
              "      height: 32px;\n",
              "      padding: 0 0 0 0;\n",
              "      width: 32px;\n",
              "    }\n",
              "\n",
              "    .colab-df-convert:hover {\n",
              "      background-color: #E2EBFA;\n",
              "      box-shadow: 0px 1px 2px rgba(60, 64, 67, 0.3), 0px 1px 3px 1px rgba(60, 64, 67, 0.15);\n",
              "      fill: #174EA6;\n",
              "    }\n",
              "\n",
              "    [theme=dark] .colab-df-convert {\n",
              "      background-color: #3B4455;\n",
              "      fill: #D2E3FC;\n",
              "    }\n",
              "\n",
              "    [theme=dark] .colab-df-convert:hover {\n",
              "      background-color: #434B5C;\n",
              "      box-shadow: 0px 1px 3px 1px rgba(0, 0, 0, 0.15);\n",
              "      filter: drop-shadow(0px 1px 2px rgba(0, 0, 0, 0.3));\n",
              "      fill: #FFFFFF;\n",
              "    }\n",
              "  </style>\n",
              "\n",
              "      <script>\n",
              "        const buttonEl =\n",
              "          document.querySelector('#df-216594ce-183a-4f7c-829b-518cc2217726 button.colab-df-convert');\n",
              "        buttonEl.style.display =\n",
              "          google.colab.kernel.accessAllowed ? 'block' : 'none';\n",
              "\n",
              "        async function convertToInteractive(key) {\n",
              "          const element = document.querySelector('#df-216594ce-183a-4f7c-829b-518cc2217726');\n",
              "          const dataTable =\n",
              "            await google.colab.kernel.invokeFunction('convertToInteractive',\n",
              "                                                     [key], {});\n",
              "          if (!dataTable) return;\n",
              "\n",
              "          const docLinkHtml = 'Like what you see? Visit the ' +\n",
              "            '<a target=\"_blank\" href=https://colab.research.google.com/notebooks/data_table.ipynb>data table notebook</a>'\n",
              "            + ' to learn more about interactive tables.';\n",
              "          element.innerHTML = '';\n",
              "          dataTable['output_type'] = 'display_data';\n",
              "          await google.colab.output.renderOutput(dataTable, element);\n",
              "          const docLink = document.createElement('div');\n",
              "          docLink.innerHTML = docLinkHtml;\n",
              "          element.appendChild(docLink);\n",
              "        }\n",
              "      </script>\n",
              "    </div>\n",
              "  </div>\n",
              "  "
            ]
          },
          "metadata": {},
          "execution_count": 54
        }
      ]
    },
    {
      "cell_type": "code",
      "execution_count": null,
      "metadata": {
        "id": "_ZL5mUP4INwc"
      },
      "outputs": [],
      "source": [
        "#Since all our included columns are numerical so it will be much easier to standarize all values\n",
        "scaler = StandardScaler()\n",
        "df_user_item_scaled = scaler.fit_transform(df_user_item)\n",
        "df_user_item_scaled = pd.DataFrame(df_user_item_scaled, index=df_user_item.index, columns=df_user_item.columns)"
      ]
    },
    {
      "cell_type": "code",
      "source": [
        "#Filtering the user-item matrix to only include employees with the required skills and drop employees with 0s in the required skills array\n",
        "relevant_employees = df_user_item_scaled.loc[(df_skills[required_skills] != 0).all(axis=1).values]"
      ],
      "metadata": {
        "id": "m6twntySv0Gh"
      },
      "execution_count": null,
      "outputs": []
    },
    {
      "cell_type": "code",
      "source": [
        "#Merge with df_emp to include other relevant employee details\n",
        "df_emp_skills = pd.merge(relevant_employees, df_emp, on='Eid', how='left')"
      ],
      "metadata": {
        "id": "QuZ6OCDswNUz"
      },
      "execution_count": null,
      "outputs": []
    },
    {
      "cell_type": "code",
      "source": [
        "df_emp_skills = df_emp_skills.drop(['Experience_y', 'Rating_y'], axis=1)\n",
        "df_emp_skills = df_emp_skills.rename(columns={'Experience_x': 'Experience', 'Rating_x': 'Rating'})"
      ],
      "metadata": {
        "id": "BL8Qau9HN5CL"
      },
      "execution_count": null,
      "outputs": []
    },
    {
      "cell_type": "code",
      "execution_count": null,
      "metadata": {
        "id": "I9nHukSPK4Fy",
        "colab": {
          "base_uri": "https://localhost:8080/"
        },
        "outputId": "4f0a0456-7859-44aa-ac66-1e0da6cbf05c"
      },
      "outputs": [
        {
          "output_type": "stream",
          "name": "stderr",
          "text": [
            "<ipython-input-19-a46ea0c348e0>:5: UserWarning: You are merging on int and float columns where the float values are not equal to their int representation.\n",
            "  df_emp_proj_skills = pd.merge(df_emp_proj_skills, df_proj_relevant, on=required_skills, how='left')\n"
          ]
        }
      ],
      "source": [
        "#This code is generated and we provided explaination of the code below\n",
        "#Join with df_proj to add the Domain Name of the project and include only the columns relevant to the Domain Name\n",
        "df_proj_relevant = df_proj.loc[:, required_skills + ['Domain Name']]\n",
        "df_emp_proj_skills = df_emp_skills[['Eid', 'Ename', 'Experience', 'Total_projects', 'Rating'] + required_skills]\n",
        "df_emp_proj_skills = pd.merge(df_emp_proj_skills, df_proj_relevant, on=required_skills, how='left')\n",
        "df_emp_proj_skills['Domain Name'] = ['Java Project']* len(df_emp_proj_skills)\n",
        "\n",
        "#Explanation:\n",
        "# - Select the relevant project columns based on required skills and 'Domain Name'\n",
        "# - Select specific employee columns along with the required skills\n",
        "# - Merge the employee skills DataFrame with the relevant project DataFrame based on required skills\n",
        "# - Assign 'Java Project' as the value for the 'Domain Name' column for all rows in the merged DataFrame\n",
        "\n",
        "#Select only the relevant columns\n",
        "df_emp_proj_skills = df_emp_proj_skills[['Eid', 'Ename', 'Experience', 'Total_projects', 'Rating', 'Domain Name'] + required_skills]"
      ]
    },
    {
      "cell_type": "code",
      "execution_count": null,
      "metadata": {
        "id": "H5CYvuJC8WBy"
      },
      "outputs": [],
      "source": [
        "#We'll create a reader object tp parse the rating data and to read the dataframe and prepare it for Collaborative Filtering\n",
        "#We used relevant_employees to determine the min and max values of rating scale\n",
        "reader = Reader(rating_scale=(relevant_employees.values.min(), relevant_employees.values.max()))"
      ]
    },
    {
      "cell_type": "code",
      "execution_count": null,
      "metadata": {
        "id": "fPDcaD6mByMQ"
      },
      "outputs": [],
      "source": [
        "#We'll use Singualar Value Decompisition(SVD) as its the best one that worked with datasets\n",
        "#We'll set biased with false to ensure that the ratings are generated solely from the user-item matrix\n",
        "algo = SVD(biased=False, verbose=False, random_state=42)"
      ]
    },
    {
      "cell_type": "markdown",
      "metadata": {
        "id": "x8u44orihMKQ"
      },
      "source": [
        "Collaborative Filtering Model Recommendations:"
      ]
    },
    {
      "cell_type": "code",
      "execution_count": null,
      "metadata": {
        "id": "pwvwYIgL_tBx",
        "colab": {
          "base_uri": "https://localhost:8080/"
        },
        "outputId": "5300dfd5-55f0-49e0-cd72-617ba69b09c7"
      },
      "outputs": [
        {
          "output_type": "stream",
          "name": "stderr",
          "text": [
            "<ipython-input-22-0b8c6af77e27>:2: FutureWarning: This dataframe has a column name that matches the 'value_name' column name of the resulting Dataframe. In the future this will raise an error, please set the 'value_name' parameter of DataFrame.melt to a unique name.\n",
            "  train_df = pd.melt(df_skills, id_vars=['Eid'], value_vars=required_skills, var_name='Skills', value_name='Rating')\n"
          ]
        },
        {
          "output_type": "execute_result",
          "data": {
            "text/plain": [
              "<surprise.prediction_algorithms.matrix_factorization.SVD at 0x7f78f7606410>"
            ]
          },
          "metadata": {},
          "execution_count": 22
        }
      ],
      "source": [
        "#Create a train dataframe and convert it into a surprise dataset\n",
        "train_df = pd.melt(df_skills, id_vars=['Eid'], value_vars=required_skills, var_name='Skills', value_name='Rating')\n",
        "data = Dataset.load_from_df(train_df[['Eid', 'Skills', 'Rating']], reader)\n",
        "\n",
        "#Train the algorithm on the entire dataset\n",
        "trainset = data.build_full_trainset()\n",
        "algo.fit(trainset)\n",
        "#During the training process, the SVD algorithm analyzes the provided dataset to learn the underlying patterns and relationships between users, skills, and ratings.\n",
        "#It decomposes the original rating matrix into three matrices: U, Σ, and V^T. U represents user features, Σ represents the singular values, and V^T represents skill features."
      ]
    },
    {
      "cell_type": "code",
      "execution_count": null,
      "metadata": {
        "id": "-fBGTdFq_yXs"
      },
      "outputs": [],
      "source": [
        "#create a list for all possible employee-skill combinations\n",
        "emp_list = relevant_employees.index.tolist()\n",
        "skill_list = required_skills\n",
        "\n",
        "#Here we created a tuple for each combination of an employee from the emp_list and a skill from the skill_list\n",
        "testset = [(e, s, None) for e in emp_list for s in skill_list]\n",
        "\n",
        "#Now we'll get the prediction ratings for all employee-skill combinations\n",
        "predictions = algo.test(testset)\n",
        "\n",
        "#And convert it into a dataframe \n",
        "pred_df = pd.DataFrame([[p.uid, p.iid, p.est] for p in predictions], columns=['Eid', 'Skills', 'Estimated_Rating'])"
      ]
    },
    {
      "cell_type": "code",
      "execution_count": null,
      "metadata": {
        "id": "aByyZdxkfcxU",
        "colab": {
          "base_uri": "https://localhost:8080/"
        },
        "outputId": "9195fb3d-aa34-4c2e-9573-575e3a55bdb1"
      },
      "outputs": [
        {
          "output_type": "stream",
          "name": "stdout",
          "text": [
            "Employee: 914\n",
            "Employee: 833\n",
            "Employee: 996\n",
            "Employee: 990\n",
            "Employee: 933\n"
          ]
        }
      ],
      "source": [
        "#Filter the dataframe to only include employees with the required skills\n",
        "relevant_pred_df = pred_df.loc[pred_df['Skills'].isin(required_skills)]\n",
        "\n",
        "#Sort the dataframe in descending order based on the Estimated_Rating column\n",
        "relevant_pred_df = relevant_pred_df.sort_values(by=['Estimated_Rating'], ascending=False)\n",
        "\n",
        "#Get the top 5 employees\n",
        "top_5_employees = relevant_pred_df['Eid'].unique()[:5]\n",
        "\n",
        "#Print the top 5 employees\n",
        "for employee in top_5_employees:\n",
        "    print('Employee:', employee)\n",
        " "
      ]
    },
    {
      "cell_type": "markdown",
      "metadata": {
        "id": "tXVOGPuchVlc"
      },
      "source": [
        "Collaborative Filtering Model Evaluation"
      ]
    },
    {
      "cell_type": "code",
      "execution_count": null,
      "metadata": {
        "id": "ouk2qDX0BAWd",
        "colab": {
          "base_uri": "https://localhost:8080/"
        },
        "outputId": "02cca21d-3f57-476c-972e-54fa45d238d6"
      },
      "outputs": [
        {
          "output_type": "stream",
          "name": "stderr",
          "text": [
            "<ipython-input-25-2d4cb3fa7f79>:2: FutureWarning: This dataframe has a column name that matches the 'value_name' column name of the resulting Dataframe. In the future this will raise an error, please set the 'value_name' parameter of DataFrame.melt to a unique name.\n",
            "  df = pd.melt(df_skills, id_vars=['Eid'], value_vars=required_skills, var_name='Skills', value_name='Rating')\n"
          ]
        }
      ],
      "source": [
        "#Create a different train set to avoid overfitting\n",
        "df = pd.melt(df_skills, id_vars=['Eid'], value_vars=required_skills, var_name='Skills', value_name='Rating')\n",
        "data = Dataset.load_from_df(df[['Eid', 'Skills', 'Rating']], reader)"
      ]
    },
    {
      "cell_type": "code",
      "source": [
        "from surprise.model_selection import KFold"
      ],
      "metadata": {
        "id": "7_zqo_aBRpFU"
      },
      "execution_count": null,
      "outputs": []
    },
    {
      "cell_type": "code",
      "execution_count": null,
      "metadata": {
        "id": "tNgX4K1oBAaA"
      },
      "outputs": [],
      "source": [
        "#Since we have a relatively small dataset we'll use K-fold cross-validation to evaluate the algorithm\n",
        "kf = KFold(n_splits=5, random_state=42)"
      ]
    },
    {
      "cell_type": "code",
      "execution_count": null,
      "metadata": {
        "id": "cg_b1oTbvW_Y",
        "colab": {
          "base_uri": "https://localhost:8080/"
        },
        "outputId": "0ae30625-df5a-4e8d-ffe7-3d8593097e74"
      },
      "outputs": [
        {
          "output_type": "stream",
          "name": "stdout",
          "text": [
            "Average RMSE: 0.4709549127127028\n",
            "Average MSE: 0.22246724281761612\n",
            "Average MAE: 0.35377874155733446\n"
          ]
        }
      ],
      "source": [
        "#Evaluate the performance of the algorithm using RMSE and MSE metrics\n",
        "rmse_list = []\n",
        "mse_list = []\n",
        "mae_list = []\n",
        "for trainset, testset in kf.split(data):\n",
        "    algo.fit(trainset)\n",
        "    test_pred = algo.test(testset)\n",
        "    pred = np.array([p.est for p in test_pred])\n",
        "    test_matrix = np.array([p.r_ui for p in test_pred])\n",
        "    rmse = sqrt(mean_squared_error(test_matrix, pred))\n",
        "    mse = mean_squared_error(test_matrix, pred)\n",
        "    mae = mean_absolute_error(test_matrix, pred)\n",
        "    rmse_list.append(rmse)\n",
        "    mse_list.append(mse)\n",
        "    mae_list.append(mae)\n",
        "\n",
        "print('Average RMSE:', np.mean(rmse_list))\n",
        "print('Average MSE:', np.mean(mse_list))\n",
        "print('Average MAE:', np.mean(mae_list))\n",
        "#Note: F1 score, Percision and Recall F1 score, precision, and recall are not well-suited for evaluating the relevance of a set of recommended items\n",
        "#So, its not well suited withh collaborative filtering (not in all cases at least)"
      ]
    },
    {
      "cell_type": "code",
      "source": [
        "from sklearn.preprocessing import MinMaxScaler"
      ],
      "metadata": {
        "id": "ZgPTrFm0fs5f"
      },
      "execution_count": null,
      "outputs": []
    },
    {
      "cell_type": "markdown",
      "metadata": {
        "id": "N-PswMx_Do-U"
      },
      "source": [
        "Content-based Filtering Model:"
      ]
    },
    {
      "cell_type": "code",
      "execution_count": null,
      "metadata": {
        "id": "CwwMCXieDzXA"
      },
      "outputs": [],
      "source": [
        "#Define each column based on what it represents (Will be used in Hybrid Filtering)\n",
        "skills_columns = required_skills\n",
        "experience_column = df_emp_proj_skills['Experience']\n",
        "rating_column = df_emp_proj_skills['Rating']\n",
        "projects_column = df_emp_proj_skills['Total_projects']"
      ]
    },
    {
      "cell_type": "code",
      "execution_count": null,
      "metadata": {
        "id": "lvPEcdhoEAdv"
      },
      "outputs": [],
      "source": [
        "#Drop the columns that are not needed\n",
        "#df_emp_proj_skills.drop(['Area_of_Interest_1', 'Area_of_Interest_2', 'Area_of_Interest_3','Language1','Language2','Language3'], axis=1, inplace=True)"
      ]
    },
    {
      "cell_type": "code",
      "source": [
        "from sklearn.preprocessing import MinMaxScaler\n",
        "from sklearn.feature_extraction.text import CountVectorizer"
      ],
      "metadata": {
        "id": "JW6U_3PjSrby"
      },
      "execution_count": null,
      "outputs": []
    },
    {
      "cell_type": "code",
      "source": [
        "# Select the relevant columns from df_emp_proj_skills\n",
        "relevant_columns = ['Experience', 'Rating', 'Total_projects'] + required_skills + ['Domain Name']\n",
        "#df_content = df_emp_proj_skills[relevant_columns].copy()"
      ],
      "metadata": {
        "id": "v7Y6L_0NYpCa"
      },
      "execution_count": null,
      "outputs": []
    },
    {
      "cell_type": "code",
      "execution_count": null,
      "metadata": {
        "id": "Hy0TFnNbETc2"
      },
      "outputs": [],
      "source": [
        "#Make a copy of the df_emp_proj_skills.copy to be used for content-based algo\n",
        "#Realized I should always make copies the hard way.\n",
        "df_content = df_emp_proj_skills.copy()\n",
        "\n",
        "#We applied MinMaxScaler to the selected columns of df_content\n",
        "scaler = MinMaxScaler()\n",
        "df_content[['Experience', 'Rating', 'Total_projects'] + skills_columns] = scaler.fit_transform(df_content[['Experience', 'Rating', 'Total_projects'] + skills_columns])"
      ]
    },
    {
      "cell_type": "markdown",
      "metadata": {
        "id": "nKfAXssTgj-x"
      },
      "source": [
        "Content-based Filtering Model Recommendations:"
      ]
    },
    {
      "cell_type": "code",
      "source": [
        "#Compute the cosine similarity matrix\n",
        "cosine_sim = cosine_similarity(df_content[['Experience', 'Rating', 'Total_projects'] + skills_columns].fillna(0))"
      ],
      "metadata": {
        "id": "Qv2jXN0XaSxg"
      },
      "execution_count": null,
      "outputs": []
    },
    {
      "cell_type": "code",
      "execution_count": null,
      "metadata": {
        "id": "NMn-KzK2N1zt",
        "colab": {
          "base_uri": "https://localhost:8080/"
        },
        "outputId": "9cc0c0e5-57a0-4195-a0c1-2c06f60552be"
      },
      "outputs": [
        {
          "output_type": "stream",
          "name": "stdout",
          "text": [
            "Top 5 Employees Recommended for Java Project:\n",
            "   Eid     score            Ename\n",
            "0    9  1.000000   William Berger\n",
            "1  301  0.999862     Jack Deyoung\n",
            "2  770  0.999862      Edna Atwell\n",
            "3  744  0.999637   Karissa Taylor\n",
            "4  114  0.999637  Kimberly Lozano\n"
          ]
        }
      ],
      "source": [
        "#We computed each employee score based on the avergae of all relevant columns\n",
        "df_content['score'] = df_content[['Experience', 'Rating', 'Total_projects'] + skills_columns].mean(axis=1)\n",
        "\n",
        "#Sort employees based on the score (higher scores first)\n",
        "relevant_employees = df_content.sort_values(by='score', ascending=False)\n",
        "\n",
        "#Just to make sure we'll drop employees with non-null skills in the target project\n",
        "relevant_employees = relevant_employees.dropna(subset=skills_columns)\n",
        "\n",
        "#to be easier to locate emGet the index of the target project in the cosine similarity matrix\n",
        "target_project_index = relevant_columns.index('Domain Name')\n",
        "\n",
        "#This line selects the relevant rows and target project column from the cosine similarity matrix\n",
        "similarities = cosine_sim[relevant_employees.index.values, :][:, target_project_index]\n",
        "\n",
        "relevant_employees['score'] = similarities\n",
        "relevant_employees = relevant_employees.sort_values(by='score', ascending=False).head(5)\n",
        "\n",
        "#Select the Eid and Score columns from recommended employees and merge with df_emp to get their names and other details\n",
        "recommended_employees = relevant_employees[['Eid', 'score']]\n",
        "recommended_employees = pd.merge(recommended_employees, df_emp[['Eid', 'Ename']], on='Eid', how='left')\n",
        "\n",
        "# Display the recommended employees\n",
        "print(f'Top 5 Employees Recommended for {target_project}:')\n",
        "print(recommended_employees)"
      ]
    },
    {
      "cell_type": "code",
      "source": [
        "target_project_index"
      ],
      "metadata": {
        "colab": {
          "base_uri": "https://localhost:8080/"
        },
        "id": "dRAVBMyzZRqp",
        "outputId": "df03be81-b0ee-4745-de59-92b60945400e"
      },
      "execution_count": null,
      "outputs": [
        {
          "output_type": "execute_result",
          "data": {
            "text/plain": [
              "6"
            ]
          },
          "metadata": {},
          "execution_count": 121
        }
      ]
    },
    {
      "cell_type": "markdown",
      "metadata": {
        "id": "uK5JqjFCgp9a"
      },
      "source": [
        "Content-based Filtering Model Evaluation:"
      ]
    },
    {
      "cell_type": "code",
      "source": [
        "#In this function, we created the same exact steps performed on content-based filtering but in a function to be easier to make a function for RMSE\n",
        "def recommender_algorithm(X, x):\n",
        "    #We computed each employee score based on the average of all relevant columns\n",
        "    X['score'] = X[['Experience', 'Rating', 'Total_projects'] + skills_columns].mean(axis=1)\n",
        "\n",
        "    #Sort employees based on the score (higher scores first)\n",
        "    relevant_employees = X.sort_values(by='score', ascending=False)\n",
        "\n",
        "    #Filter employees with non-null skills in the target project\n",
        "    relevant_employees = relevant_employees.dropna(subset=skills_columns)\n",
        "\n",
        "    #Get the index of the target project in the cosine similarity matrix\n",
        "    target_project_index = relevant_columns.index('Domain Name')\n",
        "\n",
        "    similarities = cosine_sim[relevant_employees.index.values, :][:, target_project_index]\n",
        "\n",
        "    relevant_employees['score'] = similarities\n",
        "    relevant_employees = relevant_employees.sort_values(by='score', ascending=False).head(5)\n",
        "\n",
        "    #Return the recommended employees\n",
        "    return relevant_employees"
      ],
      "metadata": {
        "id": "bWZRIs9ekYe1"
      },
      "execution_count": null,
      "outputs": []
    },
    {
      "cell_type": "code",
      "source": [
        "#This function is generated\n",
        "#Its supposed to calculate RMSE based on relevant_employees\n",
        "def measure_rmse_mse_mae(x, relevant_employees):\n",
        "    #Get the list of recommended employee ids\n",
        "    recommended_ids = relevant_employees['Eid'].tolist()\n",
        "    \n",
        "    #Get the list of actual employee skills\n",
        "    actual_skills = x[skills_columns].dropna().values\n",
        "    \n",
        "    #Compute the cosine similarity between the actual skills and the skills of the recommended employees\n",
        "    recommended_skills = df_content.loc[recommended_ids, skills_columns].values\n",
        "    similarities = cosine_similarity(recommended_skills, actual_skills.reshape(1, -1))\n",
        "    \n",
        "    #Compute the MSE, RMSE and MAE between the similarities and 1\n",
        "    mse = np.mean((similarities - 1)**2)\n",
        "    mae = np.mean(np.abs(similarities - 1))\n",
        "    rmse = np.sqrt(np.mean((similarities - 1)**2))\n",
        "    \n",
        "    return rmse, mse, mae"
      ],
      "metadata": {
        "id": "xyTGZQRykiye"
      },
      "execution_count": null,
      "outputs": []
    },
    {
      "cell_type": "code",
      "source": [
        "X = df_content.drop('score', axis=1).copy()\n",
        "rmse_list = []\n",
        "mse_list = []  \n",
        "mae_list = []  \n",
        "for i in range(len(X)):\n",
        "    #Remove row i (employee) from X\n",
        "    x_i = X.iloc[i]\n",
        "    X_i = X.drop(i)\n",
        "    relevant_employees = recommender_algorithm(X_i, x_i)\n",
        "    #Calculate the RMSE and MSE of the recommendation\n",
        "    rmse, mse, mae = measure_rmse_mse_mae(x_i, relevant_employees)\n",
        "    rmse_list.append(rmse)\n",
        "    mse_list.append(mse)  \n",
        "    mae_list.append(mae)\n",
        "\n",
        "#Compute the average RMSE, MSE and MAE\n",
        "avg_rmse = sum(rmse_list) / len(rmse_list)\n",
        "avg_mse = sum(mse_list) / len(mse_list)\n",
        "avg_mae = sum(mae_list) / len(mae_list)\n",
        "\n",
        "print(f'Average RMSE: {avg_rmse}')\n",
        "print(f'Average MSE: {avg_mse}')\n",
        "print(f'Average MAE: {avg_mae}')"
      ],
      "metadata": {
        "colab": {
          "base_uri": "https://localhost:8080/"
        },
        "id": "-bkwubyCkEmx",
        "outputId": "4d45c051-5a56-498c-9297-7e67effdff9e"
      },
      "execution_count": null,
      "outputs": [
        {
          "output_type": "stream",
          "name": "stdout",
          "text": [
            "Average RMSE: 0.720337764796717\n",
            "Average MSE: 0.6563991323210424\n",
            "Average MAE: 0.6563991323210424\n"
          ]
        }
      ]
    },
    {
      "cell_type": "markdown",
      "metadata": {
        "id": "1DdKfwDhg9c8"
      },
      "source": [
        "Hybrid Filtering Model:"
      ]
    },
    {
      "cell_type": "code",
      "execution_count": null,
      "metadata": {
        "id": "40lP0Bmeg8qy"
      },
      "outputs": [],
      "source": [
        "#Apply content-based filtering and store them in content_recs\n",
        "df_content = df_emp_proj_skills.copy()\n",
        "scaler = MinMaxScaler()\n",
        "df_content[['Experience', 'Rating', 'Total_projects'] + skills_columns] = scaler.fit_transform(df_content[['Experience', 'Rating', 'Total_projects'] + skills_columns])\n",
        "cosine_sim = cosine_similarity(df_content[['Experience', 'Rating', 'Total_projects'] + skills_columns].fillna(0))\n",
        "df_content['score'] = df_content[['Experience', 'Rating', 'Total_projects'] + skills_columns].mean(axis=1)\n",
        "relevant_employees_content = df_content.sort_values(by='score', ascending=False).dropna(subset=skills_columns)\n",
        "target_project_index = relevant_columns.index('Domain Name')\n",
        "similarities = cosine_sim[relevant_employees_content.index.values, :][:, target_project_index]\n",
        "relevant_employees_content['score'] = similarities\n",
        "relevant_employees_content = relevant_employees.sort_values(by='score', ascending=False).head(5)[['Ename', 'score']]\n",
        "content_recs = list(relevant_employees_content.Ename)\n",
        "#We tried storing them using Eid but it got complicated"
      ]
    },
    {
      "cell_type": "code",
      "execution_count": null,
      "metadata": {
        "id": "VWKU61Zxrz70"
      },
      "outputs": [],
      "source": [
        "#Use collaborative filtering to get baseline recommendations\n",
        "testset = data.build_full_trainset().build_testset()\n",
        "predictions = algo.test(testset)\n",
        "prediction_df = pd.DataFrame(predictions, columns=['userID', 'itemID', 'actual', 'cf_predictions', 'details'])\n",
        "baseline_recs = list(prediction_df.groupby('userID').apply(lambda x: x.nlargest(5, 'cf_predictions')).itemID)\n",
        "#By using collaborative filtering as a baseline, we can compare the performance of other recommendation techniques"
      ]
    },
    {
      "cell_type": "markdown",
      "metadata": {
        "id": "3J9xUUrDgKav"
      },
      "source": [
        "Hybrid Filtering Model Recommendations:"
      ]
    },
    {
      "cell_type": "code",
      "execution_count": null,
      "metadata": {
        "id": "mVZdlg7qjVgs",
        "colab": {
          "base_uri": "https://localhost:8080/"
        },
        "outputId": "be9a7a3e-c53c-4025-8a4e-7a347bea1ccd"
      },
      "outputs": [
        {
          "output_type": "stream",
          "name": "stdout",
          "text": [
            "Top 5 Employees Recommended for Java Project:\n",
            "              Ename  hybrid_score\n",
            "8    William Berger      2.000000\n",
            "300    Jack Deyoung      1.999862\n",
            "769     Edna Atwell      1.999862\n",
            "902       Eva Notti      1.999637\n",
            "743  Karissa Taylor      1.999637\n"
          ]
        }
      ],
      "source": [
        "#We will made predictions using both Collaborative and Content-based filtering and add the results for a hybrid filtering approach\n",
        "#Combine the results from both approaches\n",
        "hybrid_recs = list(set(baseline_recs+content_recs))\n",
        "\n",
        "#Merge with df_emp to include employee details\n",
        "recommendations = pd.merge(df_emp[['Eid', 'Ename']], relevant_employees_content[['Ename', 'score']], on='Ename', how='left')\n",
        "recommendations['score'] = recommendations['score'].fillna(0)\n",
        "recommendations['hybrid_score'] = recommendations['score']\n",
        "recommendations.loc[recommendations['Ename'].isin(hybrid_recs), 'hybrid_score'] += 1\n",
        "#hybrid_score represents a combined score for each employee based on both collaborative and content-based filtering\n",
        "\n",
        "#Display the hybrid recommendations\n",
        "print(f'Top 5 Employees Recommended for {target_project}:')\n",
        "print(recommendations[['Ename', 'hybrid_score']].sort_values(by='hybrid_score', ascending=False).head(5))\n"
      ]
    },
    {
      "cell_type": "markdown",
      "metadata": {
        "id": "kuOWAglugSzI"
      },
      "source": [
        "Hybrid Filtering Model Evaluation:"
      ]
    },
    {
      "cell_type": "code",
      "execution_count": null,
      "metadata": {
        "id": "tIqwe9hpW4K6",
        "colab": {
          "base_uri": "https://localhost:8080/"
        },
        "outputId": "df4d6707-80aa-434e-998e-d25ad627b298"
      },
      "outputs": [
        {
          "output_type": "stream",
          "name": "stderr",
          "text": [
            "<ipython-input-45-cf96e936f8cb>:2: FutureWarning: This dataframe has a column name that matches the 'value_name' column name of the resulting Dataframe. In the future this will raise an error, please set the 'value_name' parameter of DataFrame.melt to a unique name.\n",
            "  train_df = pd.melt(df_skills, id_vars=['Eid'], value_vars=required_skills, var_name='Skills', value_name='Rating')\n"
          ]
        }
      ],
      "source": [
        "#Convert the train dataframe into a surprise dataset\n",
        "train_df = pd.melt(df_skills, id_vars=['Eid'], value_vars=required_skills, var_name='Skills', value_name='Rating')\n",
        "data = Dataset.load_from_df(train_df[['Eid', 'Skills', 'Rating']], reader)\n",
        "\n",
        "#Use K-fold cross-validation to evaluate the algorithm\n",
        "kf = KFold(n_splits=5, random_state=42)\n",
        "\n",
        "#Initialize SVD algorithm with the global mean of the training set as the default value for missing ratings\n",
        "algo_cf = SVD(biased=False, verbose=False, random_state=42)"
      ]
    },
    {
      "cell_type": "code",
      "execution_count": null,
      "metadata": {
        "id": "Mh60P9B5rzP5"
      },
      "outputs": [],
      "source": [
        "#Make a copy of the df_emp_proj_skills to use for analysis\n",
        "df_content = df_emp_proj_skills.copy()\n",
        "\n",
        "#Normalize the values using MinMax\n",
        "scaler = MinMaxScaler()\n",
        "df_content[['Experience', 'Rating', 'Total_projects'] + skills_columns] = scaler.fit_transform(df_content[['Experience', 'Rating', 'Total_projects'] + skills_columns])\n",
        "df_content['score'] = df_content[['Experience', 'Rating', 'Total_projects'] + skills_columns].mean(axis=1)\n",
        "relevant_employees_cb = df_content.sort_values(by='score', ascending=False).dropna(subset=skills_columns)"
      ]
    },
    {
      "cell_type": "code",
      "source": [
        "from sklearn.metrics import mean_squared_error, mean_absolute_error\n",
        "\n",
        "rmse_list = []\n",
        "mse_list = []\n",
        "mae_list = []\n",
        "\n",
        "#Split the data into training and test sets using k-fold cross-validation\n",
        "for trainset, testset in kf.split(data):\n",
        "    algo_cf.fit(trainset)\n",
        "    test_pred = algo_cf.test(testset)\n",
        "    \n",
        "    #Convert the test set into the expected format (user ID, item ID, true rating) -> (user ID, item ID)\n",
        "    testset_uid_iid = [(t[0], t[1]) for t in testset]\n",
        "    \n",
        "    #Then, compute collaborative filtering predictions\n",
        "    cf_pred = [algo_cf.predict(uid, iid).est for (uid, iid) in testset_uid_iid]\n",
        "    \n",
        "    #Now the content-based predictions for the test set\n",
        "    cb_pred = []\n",
        "    for (uid, iid) in testset_uid_iid:\n",
        "        try:\n",
        "            #Extract the employee's skills, experience, rating, and projects from the content-based data\n",
        "            employee_skills = relevant_employees_cb.loc[uid, skills_columns].values.reshape(1, -1)\n",
        "            employee_experience = experience_column[experience_column.index == uid].values\n",
        "            employee_rating = rating_column[rating_column.index == uid].values\n",
        "            employee_projects = projects_column[projects_column.index == uid].values\n",
        "            \n",
        "            #Scale and combine the features to create a feature vector for the employee\n",
        "            employee_features = scaler.transform(np.hstack([employee_skills, employee_experience, employee_rating, employee_projects]).reshape(1, -1))\n",
        "            \n",
        "            #Compute the content-based prediction as the average of the feature vector\n",
        "            cb_pred.append(employee_features.mean())\n",
        "            \n",
        "        except:\n",
        "            #If there is no skill information available for an employee, use the global average from the collaborative filtering algorithm\n",
        "            cb_pred.append(np.mean(cf_pred))\n",
        "    \n",
        "    #Compute the hybrid predictions as the average of the collaborative and content-based predictions\n",
        "    hybrid_pred = [(cf + cb) / 2 for (cf, cb) in zip(cf_pred, cb_pred)]\n",
        "    \n",
        "    #Convert the test set ratings into a list\n",
        "    testset_ratings = [t.r_ui for t in test_pred]\n",
        "    rmse = sqrt(mean_squared_error(testset_ratings, hybrid_pred))\n",
        "    mse = mean_squared_error(testset_ratings, hybrid_pred)\n",
        "    mae = mean_absolute_error(testset_ratings, hybrid_pred)\n",
        "    \n",
        "    rmse_list.append(rmse)\n",
        "    mse_list.append(mse)\n",
        "    mae_list.append(mae)\n",
        "\n",
        "#Compute the average RMSE, MSE, and MAE\n",
        "avg_rmse = np.mean(rmse_list)\n",
        "avg_mse = np.mean(mse_list)\n",
        "avg_mae = np.mean(mae_list)\n",
        "\n",
        "print('Average RMSE:', avg_rmse)\n",
        "print('Average MSE:', avg_mse)\n",
        "print('Average MAE:', avg_mae)\n"
      ],
      "metadata": {
        "colab": {
          "base_uri": "https://localhost:8080/"
        },
        "id": "CZMOecJnQDnv",
        "outputId": "e840992c-008d-445f-d028-99b1d6c52049"
      },
      "execution_count": null,
      "outputs": [
        {
          "output_type": "stream",
          "name": "stdout",
          "text": [
            "Average RMSE: 0.7706130519307783\n",
            "Average MSE: 0.5944887765254617\n",
            "Average MAE: 0.5671869712504939\n"
          ]
        }
      ]
    }
  ]
}